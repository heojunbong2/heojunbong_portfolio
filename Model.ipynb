{
  "cells": [
    {
      "cell_type": "code",
      "execution_count": 18,
      "metadata": {
        "colab": {
          "base_uri": "https://localhost:8080/"
        },
        "id": "RBii2Uv4VT_t",
        "outputId": "72a3b74e-3099-431e-8412-482b8a234475"
      },
      "outputs": [
        {
          "name": "stdout",
          "output_type": "stream",
          "text": [
            "(584640, 4)\n",
            "(250560, 4)\n",
            "(584640, 1)\n",
            "(250560, 1)\n"
          ]
        }
      ],
      "source": [
        "#Upload csv excel file\n",
        "import pandas as pd\n",
        "X_train = pd.read_csv('/dshome/WoongLab/heo/oil_kamp/Data/X_train.csv')\n",
        "X_test = pd.read_csv('/dshome/WoongLab/heo/oil_kamp/Data/X_test.csv')\n",
        "y_train = pd.read_csv('/dshome/WoongLab/heo/oil_kamp/Data/y_train.csv')\n",
        "y_test = pd.read_csv('/dshome/WoongLab/heo/oil_kamp/Data/y_test.csv')\n",
        " \n",
        "print(X_train.shape)\n",
        "print(X_test.shape)\n",
        "print(y_train.shape)\n",
        "print(y_test.shape)"
      ]
    },
    {
      "cell_type": "markdown",
      "metadata": {},
      "source": [
        "## Classification Model 구축"
      ]
    },
    {
      "cell_type": "code",
      "execution_count": 19,
      "metadata": {
        "id": "Fu1_lBVaV-eN"
      },
      "outputs": [],
      "source": [
        "import numpy as np \n",
        "import pandas as pd \n",
        "import seaborn as sns \n",
        "import matplotlib.pyplot as plt \n",
        "%matplotlib inline \n",
        "\n",
        "from sklearn.model_selection import train_test_split \n",
        "from sklearn.metrics import accuracy_score, precision_score, recall_score, roc_auc_score, f1_score, confusion_matrix \n",
        " \n",
        "import torch\n",
        "import torch.nn as nn\n"
      ]
    },
    {
      "cell_type": "code",
      "execution_count": 20,
      "metadata": {
        "id": "hRxsWAC9WOfd"
      },
      "outputs": [],
      "source": [
        "### 머신러닝 분류모델 라이브러리 로드\n",
        "\n",
        "from sklearn.preprocessing import StandardScaler \n",
        "from sklearn.linear_model import LogisticRegression  \n",
        "from sklearn.tree import DecisionTreeClassifier \n",
        "from sklearn.neighbors import KNeighborsClassifier \n",
        "from sklearn.ensemble import RandomForestClassifier \n",
        "from xgboost import XGBClassifier \n",
        "from sklearn.model_selection import GridSearchCV \n",
        "\n",
        "### 딥러닝 모델 'Tabnet' 라이브러리 로드\n",
        "\n",
        "from pytorch_tabnet.tab_model import TabNetClassifier"
      ]
    },
    {
      "cell_type": "code",
      "execution_count": 21,
      "metadata": {
        "id": "WC9Y6-oPWUzG"
      },
      "outputs": [],
      "source": [
        "import warnings \n",
        "warnings.filterwarnings('ignore')\n"
      ]
    },
    {
      "cell_type": "code",
      "execution_count": 22,
      "metadata": {
        "id": "jknXIUddWac1"
      },
      "outputs": [],
      "source": [
        "# 변수중요도가 낮은 INSP 변수는 분류모델 구축에서 제외함\n",
        "\n",
        "X_train = X_train[['MOTORSPEED','MELT_WEIGHT','MELT_TEMP']]\n",
        "X_test = X_test[['MOTORSPEED','MELT_WEIGHT','MELT_TEMP']]\n"
      ]
    },
    {
      "cell_type": "code",
      "execution_count": 23,
      "metadata": {
        "colab": {
          "base_uri": "https://localhost:8080/",
          "height": 424
        },
        "id": "hy0hrj7qcYPS",
        "outputId": "33287d57-dd7b-4e00-e14e-a2939c84b7b1"
      },
      "outputs": [
        {
          "data": {
            "text/html": [
              "<div>\n",
              "<style scoped>\n",
              "    .dataframe tbody tr th:only-of-type {\n",
              "        vertical-align: middle;\n",
              "    }\n",
              "\n",
              "    .dataframe tbody tr th {\n",
              "        vertical-align: top;\n",
              "    }\n",
              "\n",
              "    .dataframe thead th {\n",
              "        text-align: right;\n",
              "    }\n",
              "</style>\n",
              "<table border=\"1\" class=\"dataframe\">\n",
              "  <thead>\n",
              "    <tr style=\"text-align: right;\">\n",
              "      <th></th>\n",
              "      <th>MOTORSPEED</th>\n",
              "      <th>MELT_WEIGHT</th>\n",
              "      <th>MELT_TEMP</th>\n",
              "    </tr>\n",
              "  </thead>\n",
              "  <tbody>\n",
              "    <tr>\n",
              "      <th>0</th>\n",
              "      <td>74</td>\n",
              "      <td>128</td>\n",
              "      <td>410</td>\n",
              "    </tr>\n",
              "    <tr>\n",
              "      <th>1</th>\n",
              "      <td>1740</td>\n",
              "      <td>658</td>\n",
              "      <td>740</td>\n",
              "    </tr>\n",
              "    <tr>\n",
              "      <th>2</th>\n",
              "      <td>222</td>\n",
              "      <td>569</td>\n",
              "      <td>411</td>\n",
              "    </tr>\n",
              "    <tr>\n",
              "      <th>3</th>\n",
              "      <td>1720</td>\n",
              "      <td>316</td>\n",
              "      <td>764</td>\n",
              "    </tr>\n",
              "    <tr>\n",
              "      <th>4</th>\n",
              "      <td>1703</td>\n",
              "      <td>512</td>\n",
              "      <td>769</td>\n",
              "    </tr>\n",
              "    <tr>\n",
              "      <th>...</th>\n",
              "      <td>...</td>\n",
              "      <td>...</td>\n",
              "      <td>...</td>\n",
              "    </tr>\n",
              "    <tr>\n",
              "      <th>584635</th>\n",
              "      <td>76</td>\n",
              "      <td>2</td>\n",
              "      <td>456</td>\n",
              "    </tr>\n",
              "    <tr>\n",
              "      <th>584636</th>\n",
              "      <td>1725</td>\n",
              "      <td>28</td>\n",
              "      <td>749</td>\n",
              "    </tr>\n",
              "    <tr>\n",
              "      <th>584637</th>\n",
              "      <td>136</td>\n",
              "      <td>452</td>\n",
              "      <td>496</td>\n",
              "    </tr>\n",
              "    <tr>\n",
              "      <th>584638</th>\n",
              "      <td>167</td>\n",
              "      <td>382</td>\n",
              "      <td>466</td>\n",
              "    </tr>\n",
              "    <tr>\n",
              "      <th>584639</th>\n",
              "      <td>185</td>\n",
              "      <td>693</td>\n",
              "      <td>412</td>\n",
              "    </tr>\n",
              "  </tbody>\n",
              "</table>\n",
              "<p>584640 rows × 3 columns</p>\n",
              "</div>"
            ],
            "text/plain": [
              "        MOTORSPEED  MELT_WEIGHT  MELT_TEMP\n",
              "0               74          128        410\n",
              "1             1740          658        740\n",
              "2              222          569        411\n",
              "3             1720          316        764\n",
              "4             1703          512        769\n",
              "...            ...          ...        ...\n",
              "584635          76            2        456\n",
              "584636        1725           28        749\n",
              "584637         136          452        496\n",
              "584638         167          382        466\n",
              "584639         185          693        412\n",
              "\n",
              "[584640 rows x 3 columns]"
            ]
          },
          "execution_count": 23,
          "metadata": {},
          "output_type": "execute_result"
        }
      ],
      "source": [
        "X_train"
      ]
    },
    {
      "cell_type": "code",
      "execution_count": 24,
      "metadata": {
        "id": "E83bKVaLtq9M"
      },
      "outputs": [],
      "source": [
        "#Scaling data\n",
        "# 트리계열 모델을 제외한 모델들은 각 변수들의 단위가 달라서 scaling을 통해 맞춰줘야함\n",
        "\n",
        "from sklearn.preprocessing import StandardScaler\n",
        "scaler = StandardScaler()\n",
        "X_train_transform = scaler.fit_transform(X_train)\n",
        "X_test_transform=scaler.transform(X_test)"
      ]
    },
    {
      "cell_type": "code",
      "execution_count": 25,
      "metadata": {
        "colab": {
          "base_uri": "https://localhost:8080/"
        },
        "id": "nznWFyX5uo5C",
        "outputId": "e226e45c-0dbf-47a8-c73b-4119b6241916"
      },
      "outputs": [
        {
          "data": {
            "text/plain": [
              "array([[-0.60388753, -0.37476763, -0.77362127],\n",
              "       [ 2.0001629 ,  0.06229296,  1.79738435],\n",
              "       [-0.37255532, -0.01110024, -0.76583034],\n",
              "       ...,\n",
              "       [-0.50697809, -0.10758342, -0.10360162],\n",
              "       [-0.45852337, -0.1653084 , -0.3373294 ],\n",
              "       [-0.43038837,  0.09115545, -0.75803942]])"
            ]
          },
          "execution_count": 25,
          "metadata": {},
          "output_type": "execute_result"
        }
      ],
      "source": [
        "X_train_transform"
      ]
    },
    {
      "cell_type": "markdown",
      "metadata": {},
      "source": [
        "## Decision Tree 구축"
      ]
    },
    {
      "cell_type": "code",
      "execution_count": 26,
      "metadata": {
        "id": "8Xhke_Q0uMbX"
      },
      "outputs": [],
      "source": [
        "parameters={'max_depth':[3,5,8], 'min_samples_split': [5,10,15]}"
      ]
    },
    {
      "cell_type": "code",
      "execution_count": 27,
      "metadata": {},
      "outputs": [],
      "source": [
        "dtree=DecisionTreeClassifier(random_state=42)"
      ]
    },
    {
      "cell_type": "code",
      "execution_count": 28,
      "metadata": {
        "id": "Kz2UEziPyFL3"
      },
      "outputs": [],
      "source": [
        "grid_dtree=GridSearchCV(dtree, param_grid=parameters,cv=5,refit=True,scoring =\"roc_auc\")"
      ]
    },
    {
      "cell_type": "code",
      "execution_count": 29,
      "metadata": {
        "colab": {
          "base_uri": "https://localhost:8080/"
        },
        "id": "qkYE1t9xyGt3",
        "outputId": "acd5e713-7918-4b26-b8fa-49e4c01a8c2f"
      },
      "outputs": [
        {
          "data": {
            "text/html": [
              "<style>#sk-container-id-3 {color: black;background-color: white;}#sk-container-id-3 pre{padding: 0;}#sk-container-id-3 div.sk-toggleable {background-color: white;}#sk-container-id-3 label.sk-toggleable__label {cursor: pointer;display: block;width: 100%;margin-bottom: 0;padding: 0.3em;box-sizing: border-box;text-align: center;}#sk-container-id-3 label.sk-toggleable__label-arrow:before {content: \"▸\";float: left;margin-right: 0.25em;color: #696969;}#sk-container-id-3 label.sk-toggleable__label-arrow:hover:before {color: black;}#sk-container-id-3 div.sk-estimator:hover label.sk-toggleable__label-arrow:before {color: black;}#sk-container-id-3 div.sk-toggleable__content {max-height: 0;max-width: 0;overflow: hidden;text-align: left;background-color: #f0f8ff;}#sk-container-id-3 div.sk-toggleable__content pre {margin: 0.2em;color: black;border-radius: 0.25em;background-color: #f0f8ff;}#sk-container-id-3 input.sk-toggleable__control:checked~div.sk-toggleable__content {max-height: 200px;max-width: 100%;overflow: auto;}#sk-container-id-3 input.sk-toggleable__control:checked~label.sk-toggleable__label-arrow:before {content: \"▾\";}#sk-container-id-3 div.sk-estimator input.sk-toggleable__control:checked~label.sk-toggleable__label {background-color: #d4ebff;}#sk-container-id-3 div.sk-label input.sk-toggleable__control:checked~label.sk-toggleable__label {background-color: #d4ebff;}#sk-container-id-3 input.sk-hidden--visually {border: 0;clip: rect(1px 1px 1px 1px);clip: rect(1px, 1px, 1px, 1px);height: 1px;margin: -1px;overflow: hidden;padding: 0;position: absolute;width: 1px;}#sk-container-id-3 div.sk-estimator {font-family: monospace;background-color: #f0f8ff;border: 1px dotted black;border-radius: 0.25em;box-sizing: border-box;margin-bottom: 0.5em;}#sk-container-id-3 div.sk-estimator:hover {background-color: #d4ebff;}#sk-container-id-3 div.sk-parallel-item::after {content: \"\";width: 100%;border-bottom: 1px solid gray;flex-grow: 1;}#sk-container-id-3 div.sk-label:hover label.sk-toggleable__label {background-color: #d4ebff;}#sk-container-id-3 div.sk-serial::before {content: \"\";position: absolute;border-left: 1px solid gray;box-sizing: border-box;top: 0;bottom: 0;left: 50%;z-index: 0;}#sk-container-id-3 div.sk-serial {display: flex;flex-direction: column;align-items: center;background-color: white;padding-right: 0.2em;padding-left: 0.2em;position: relative;}#sk-container-id-3 div.sk-item {position: relative;z-index: 1;}#sk-container-id-3 div.sk-parallel {display: flex;align-items: stretch;justify-content: center;background-color: white;position: relative;}#sk-container-id-3 div.sk-item::before, #sk-container-id-3 div.sk-parallel-item::before {content: \"\";position: absolute;border-left: 1px solid gray;box-sizing: border-box;top: 0;bottom: 0;left: 50%;z-index: -1;}#sk-container-id-3 div.sk-parallel-item {display: flex;flex-direction: column;z-index: 1;position: relative;background-color: white;}#sk-container-id-3 div.sk-parallel-item:first-child::after {align-self: flex-end;width: 50%;}#sk-container-id-3 div.sk-parallel-item:last-child::after {align-self: flex-start;width: 50%;}#sk-container-id-3 div.sk-parallel-item:only-child::after {width: 0;}#sk-container-id-3 div.sk-dashed-wrapped {border: 1px dashed gray;margin: 0 0.4em 0.5em 0.4em;box-sizing: border-box;padding-bottom: 0.4em;background-color: white;}#sk-container-id-3 div.sk-label label {font-family: monospace;font-weight: bold;display: inline-block;line-height: 1.2em;}#sk-container-id-3 div.sk-label-container {text-align: center;}#sk-container-id-3 div.sk-container {/* jupyter's `normalize.less` sets `[hidden] { display: none; }` but bootstrap.min.css set `[hidden] { display: none !important; }` so we also need the `!important` here to be able to override the default hidden behavior on the sphinx rendered scikit-learn.org. See: https://github.com/scikit-learn/scikit-learn/issues/21755 */display: inline-block !important;position: relative;}#sk-container-id-3 div.sk-text-repr-fallback {display: none;}</style><div id=\"sk-container-id-3\" class=\"sk-top-container\"><div class=\"sk-text-repr-fallback\"><pre>GridSearchCV(cv=5, estimator=DecisionTreeClassifier(random_state=42),\n",
              "             param_grid={&#x27;max_depth&#x27;: [3, 5, 8],\n",
              "                         &#x27;min_samples_split&#x27;: [5, 10, 15]},\n",
              "             scoring=&#x27;roc_auc&#x27;)</pre><b>In a Jupyter environment, please rerun this cell to show the HTML representation or trust the notebook. <br />On GitHub, the HTML representation is unable to render, please try loading this page with nbviewer.org.</b></div><div class=\"sk-container\" hidden><div class=\"sk-item sk-dashed-wrapped\"><div class=\"sk-label-container\"><div class=\"sk-label sk-toggleable\"><input class=\"sk-toggleable__control sk-hidden--visually\" id=\"sk-estimator-id-5\" type=\"checkbox\" ><label for=\"sk-estimator-id-5\" class=\"sk-toggleable__label sk-toggleable__label-arrow\">GridSearchCV</label><div class=\"sk-toggleable__content\"><pre>GridSearchCV(cv=5, estimator=DecisionTreeClassifier(random_state=42),\n",
              "             param_grid={&#x27;max_depth&#x27;: [3, 5, 8],\n",
              "                         &#x27;min_samples_split&#x27;: [5, 10, 15]},\n",
              "             scoring=&#x27;roc_auc&#x27;)</pre></div></div></div><div class=\"sk-parallel\"><div class=\"sk-parallel-item\"><div class=\"sk-item\"><div class=\"sk-label-container\"><div class=\"sk-label sk-toggleable\"><input class=\"sk-toggleable__control sk-hidden--visually\" id=\"sk-estimator-id-6\" type=\"checkbox\" ><label for=\"sk-estimator-id-6\" class=\"sk-toggleable__label sk-toggleable__label-arrow\">estimator: DecisionTreeClassifier</label><div class=\"sk-toggleable__content\"><pre>DecisionTreeClassifier(random_state=42)</pre></div></div></div><div class=\"sk-serial\"><div class=\"sk-item\"><div class=\"sk-estimator sk-toggleable\"><input class=\"sk-toggleable__control sk-hidden--visually\" id=\"sk-estimator-id-7\" type=\"checkbox\" ><label for=\"sk-estimator-id-7\" class=\"sk-toggleable__label sk-toggleable__label-arrow\">DecisionTreeClassifier</label><div class=\"sk-toggleable__content\"><pre>DecisionTreeClassifier(random_state=42)</pre></div></div></div></div></div></div></div></div></div></div>"
            ],
            "text/plain": [
              "GridSearchCV(cv=5, estimator=DecisionTreeClassifier(random_state=42),\n",
              "             param_grid={'max_depth': [3, 5, 8],\n",
              "                         'min_samples_split': [5, 10, 15]},\n",
              "             scoring='roc_auc')"
            ]
          },
          "execution_count": 29,
          "metadata": {},
          "output_type": "execute_result"
        }
      ],
      "source": [
        "## Find the optimized parameters \n",
        "\n",
        "grid_dtree.fit(X_train,y_train)"
      ]
    },
    {
      "cell_type": "code",
      "execution_count": 30,
      "metadata": {
        "colab": {
          "base_uri": "https://localhost:8080/",
          "height": 300
        },
        "id": "pV9jS33MyIam",
        "outputId": "ee6861ec-d0cb-47b9-dff1-34e446f96e72"
      },
      "outputs": [
        {
          "data": {
            "text/html": [
              "<div>\n",
              "<style scoped>\n",
              "    .dataframe tbody tr th:only-of-type {\n",
              "        vertical-align: middle;\n",
              "    }\n",
              "\n",
              "    .dataframe tbody tr th {\n",
              "        vertical-align: top;\n",
              "    }\n",
              "\n",
              "    .dataframe thead th {\n",
              "        text-align: right;\n",
              "    }\n",
              "</style>\n",
              "<table border=\"1\" class=\"dataframe\">\n",
              "  <thead>\n",
              "    <tr style=\"text-align: right;\">\n",
              "      <th></th>\n",
              "      <th>params</th>\n",
              "      <th>mean_test_score</th>\n",
              "      <th>rank_test_score</th>\n",
              "      <th>split0_test_score</th>\n",
              "      <th>split1_test_score</th>\n",
              "      <th>split2_test_score</th>\n",
              "    </tr>\n",
              "  </thead>\n",
              "  <tbody>\n",
              "    <tr>\n",
              "      <th>0</th>\n",
              "      <td>{'max_depth': 3, 'min_samples_split': 5}</td>\n",
              "      <td>0.781966</td>\n",
              "      <td>7</td>\n",
              "      <td>0.782163</td>\n",
              "      <td>0.781187</td>\n",
              "      <td>0.780641</td>\n",
              "    </tr>\n",
              "    <tr>\n",
              "      <th>1</th>\n",
              "      <td>{'max_depth': 3, 'min_samples_split': 10}</td>\n",
              "      <td>0.781966</td>\n",
              "      <td>7</td>\n",
              "      <td>0.782163</td>\n",
              "      <td>0.781187</td>\n",
              "      <td>0.780641</td>\n",
              "    </tr>\n",
              "    <tr>\n",
              "      <th>2</th>\n",
              "      <td>{'max_depth': 3, 'min_samples_split': 15}</td>\n",
              "      <td>0.781966</td>\n",
              "      <td>7</td>\n",
              "      <td>0.782163</td>\n",
              "      <td>0.781187</td>\n",
              "      <td>0.780641</td>\n",
              "    </tr>\n",
              "    <tr>\n",
              "      <th>3</th>\n",
              "      <td>{'max_depth': 5, 'min_samples_split': 5}</td>\n",
              "      <td>0.796417</td>\n",
              "      <td>4</td>\n",
              "      <td>0.797177</td>\n",
              "      <td>0.796039</td>\n",
              "      <td>0.794497</td>\n",
              "    </tr>\n",
              "    <tr>\n",
              "      <th>4</th>\n",
              "      <td>{'max_depth': 5, 'min_samples_split': 10}</td>\n",
              "      <td>0.796417</td>\n",
              "      <td>4</td>\n",
              "      <td>0.797177</td>\n",
              "      <td>0.796039</td>\n",
              "      <td>0.794497</td>\n",
              "    </tr>\n",
              "    <tr>\n",
              "      <th>5</th>\n",
              "      <td>{'max_depth': 5, 'min_samples_split': 15}</td>\n",
              "      <td>0.796417</td>\n",
              "      <td>4</td>\n",
              "      <td>0.797177</td>\n",
              "      <td>0.796039</td>\n",
              "      <td>0.794497</td>\n",
              "    </tr>\n",
              "    <tr>\n",
              "      <th>6</th>\n",
              "      <td>{'max_depth': 8, 'min_samples_split': 5}</td>\n",
              "      <td>0.800427</td>\n",
              "      <td>2</td>\n",
              "      <td>0.801262</td>\n",
              "      <td>0.799699</td>\n",
              "      <td>0.797962</td>\n",
              "    </tr>\n",
              "    <tr>\n",
              "      <th>7</th>\n",
              "      <td>{'max_depth': 8, 'min_samples_split': 10}</td>\n",
              "      <td>0.800439</td>\n",
              "      <td>1</td>\n",
              "      <td>0.801262</td>\n",
              "      <td>0.799718</td>\n",
              "      <td>0.797976</td>\n",
              "    </tr>\n",
              "    <tr>\n",
              "      <th>8</th>\n",
              "      <td>{'max_depth': 8, 'min_samples_split': 15}</td>\n",
              "      <td>0.800423</td>\n",
              "      <td>3</td>\n",
              "      <td>0.801179</td>\n",
              "      <td>0.799718</td>\n",
              "      <td>0.797976</td>\n",
              "    </tr>\n",
              "  </tbody>\n",
              "</table>\n",
              "</div>"
            ],
            "text/plain": [
              "                                      params  mean_test_score  \\\n",
              "0   {'max_depth': 3, 'min_samples_split': 5}         0.781966   \n",
              "1  {'max_depth': 3, 'min_samples_split': 10}         0.781966   \n",
              "2  {'max_depth': 3, 'min_samples_split': 15}         0.781966   \n",
              "3   {'max_depth': 5, 'min_samples_split': 5}         0.796417   \n",
              "4  {'max_depth': 5, 'min_samples_split': 10}         0.796417   \n",
              "5  {'max_depth': 5, 'min_samples_split': 15}         0.796417   \n",
              "6   {'max_depth': 8, 'min_samples_split': 5}         0.800427   \n",
              "7  {'max_depth': 8, 'min_samples_split': 10}         0.800439   \n",
              "8  {'max_depth': 8, 'min_samples_split': 15}         0.800423   \n",
              "\n",
              "   rank_test_score  split0_test_score  split1_test_score  split2_test_score  \n",
              "0                7           0.782163           0.781187           0.780641  \n",
              "1                7           0.782163           0.781187           0.780641  \n",
              "2                7           0.782163           0.781187           0.780641  \n",
              "3                4           0.797177           0.796039           0.794497  \n",
              "4                4           0.797177           0.796039           0.794497  \n",
              "5                4           0.797177           0.796039           0.794497  \n",
              "6                2           0.801262           0.799699           0.797962  \n",
              "7                1           0.801262           0.799718           0.797976  \n",
              "8                3           0.801179           0.799718           0.797976  "
            ]
          },
          "execution_count": 30,
          "metadata": {},
          "output_type": "execute_result"
        }
      ],
      "source": [
        "# GridSearchCV 결과를 추출해 DataFrame으로 변환 \n",
        "\n",
        "scores_df=pd.DataFrame(grid_dtree.cv_results_)\n",
        "scores_df[['params','mean_test_score','rank_test_score',\n",
        "           'split0_test_score','split1_test_score','split2_test_score']]"
      ]
    },
    {
      "cell_type": "code",
      "execution_count": 31,
      "metadata": {
        "colab": {
          "base_uri": "https://localhost:8080/"
        },
        "id": "j1Hbvm91yQfO",
        "outputId": "7f6cc2af-a201-4db0-fefc-b64f42af2393"
      },
      "outputs": [
        {
          "name": "stdout",
          "output_type": "stream",
          "text": [
            "GridSearchCV 최적 파라미터: {'max_depth': 8, 'min_samples_split': 10}\n",
            "GridSearchCV 최고 정확도:0.8004\n"
          ]
        }
      ],
      "source": [
        "print('GridSearchCV 최적 파라미터:', grid_dtree.best_params_)\n",
        "print('GridSearchCV 최고 정확도:{0:.4f}'.format(grid_dtree.best_score_))\n"
      ]
    },
    {
      "cell_type": "code",
      "execution_count": 32,
      "metadata": {
        "id": "Rzkg6qoG3Mx2"
      },
      "outputs": [],
      "source": [
        "# GridSearchCV의 refit으로 이미 학습된 estimator 반환. 즉 최적의 하이퍼파라미터 반환\n",
        "\n",
        "best_dtree=grid_dtree.best_estimator_ \n"
      ]
    },
    {
      "cell_type": "code",
      "execution_count": 33,
      "metadata": {
        "colab": {
          "base_uri": "https://localhost:8080/"
        },
        "id": "t6KSx70_ym_f",
        "outputId": "709aae68-e93b-4987-fd36-edd0a5791236"
      },
      "outputs": [
        {
          "name": "stdout",
          "output_type": "stream",
          "text": [
            "Test set accuracy:  0.7941570881226053\n",
            "Test set precision:  0.7969447249275268\n",
            "Test set recall:  0.9913695299837926\n",
            "Test set F1 score:  0.8835882342319569\n",
            "Test set AUC Score:  0.7992216849697209\n"
          ]
        }
      ],
      "source": [
        "pred_dtree=best_dtree.predict(X_test)\n",
        "prob_dtree=best_dtree.predict_proba(X_test)[:,1]                  # roc_auc_score 함수에서는 인수로는 실제값과 예측확률값이 들어간다. \n",
        "\n",
        "print('Test set accuracy: ', accuracy_score(y_test, pred_dtree))\n",
        "print('Test set precision: ',precision_score(y_test,pred_dtree))\n",
        "print('Test set recall: ', recall_score(y_test,pred_dtree))\n",
        "print('Test set F1 score: ', f1_score(y_test, pred_dtree))\n",
        "print('Test set AUC Score: ', roc_auc_score(y_test,prob_dtree))"
      ]
    },
    {
      "cell_type": "markdown",
      "metadata": {
        "id": "2eSgiIWGy9bv"
      },
      "source": [
        "## 로지스틱 회귀모형 만들기"
      ]
    },
    {
      "cell_type": "code",
      "execution_count": 34,
      "metadata": {
        "colab": {
          "base_uri": "https://localhost:8080/"
        },
        "id": "S4GulJZGyo8G",
        "outputId": "0c3aee2d-06c6-4aee-ff56-74f8fad614bc"
      },
      "outputs": [],
      "source": [
        "lg_model=LogisticRegression(random_state=42)\n"
      ]
    },
    {
      "cell_type": "code",
      "execution_count": 35,
      "metadata": {
        "id": "-vpcYhkbzhR9"
      },
      "outputs": [],
      "source": [
        "param_grid = {'C': [ 0.01, 0.1, 1, 10, 100]}"
      ]
    },
    {
      "cell_type": "code",
      "execution_count": 36,
      "metadata": {
        "id": "tCtX5h9I1I2t"
      },
      "outputs": [],
      "source": [
        "grid_lg = GridSearchCV(lg_model, param_grid, cv=5, refit=True ,scoring =\"roc_auc\")      "
      ]
    },
    {
      "cell_type": "code",
      "execution_count": 37,
      "metadata": {
        "colab": {
          "base_uri": "https://localhost:8080/"
        },
        "id": "9zYrFL1djEb_",
        "outputId": "d72e72c5-69af-4c85-c70f-ac0e6d58625e"
      },
      "outputs": [
        {
          "data": {
            "text/html": [
              "<style>#sk-container-id-4 {color: black;background-color: white;}#sk-container-id-4 pre{padding: 0;}#sk-container-id-4 div.sk-toggleable {background-color: white;}#sk-container-id-4 label.sk-toggleable__label {cursor: pointer;display: block;width: 100%;margin-bottom: 0;padding: 0.3em;box-sizing: border-box;text-align: center;}#sk-container-id-4 label.sk-toggleable__label-arrow:before {content: \"▸\";float: left;margin-right: 0.25em;color: #696969;}#sk-container-id-4 label.sk-toggleable__label-arrow:hover:before {color: black;}#sk-container-id-4 div.sk-estimator:hover label.sk-toggleable__label-arrow:before {color: black;}#sk-container-id-4 div.sk-toggleable__content {max-height: 0;max-width: 0;overflow: hidden;text-align: left;background-color: #f0f8ff;}#sk-container-id-4 div.sk-toggleable__content pre {margin: 0.2em;color: black;border-radius: 0.25em;background-color: #f0f8ff;}#sk-container-id-4 input.sk-toggleable__control:checked~div.sk-toggleable__content {max-height: 200px;max-width: 100%;overflow: auto;}#sk-container-id-4 input.sk-toggleable__control:checked~label.sk-toggleable__label-arrow:before {content: \"▾\";}#sk-container-id-4 div.sk-estimator input.sk-toggleable__control:checked~label.sk-toggleable__label {background-color: #d4ebff;}#sk-container-id-4 div.sk-label input.sk-toggleable__control:checked~label.sk-toggleable__label {background-color: #d4ebff;}#sk-container-id-4 input.sk-hidden--visually {border: 0;clip: rect(1px 1px 1px 1px);clip: rect(1px, 1px, 1px, 1px);height: 1px;margin: -1px;overflow: hidden;padding: 0;position: absolute;width: 1px;}#sk-container-id-4 div.sk-estimator {font-family: monospace;background-color: #f0f8ff;border: 1px dotted black;border-radius: 0.25em;box-sizing: border-box;margin-bottom: 0.5em;}#sk-container-id-4 div.sk-estimator:hover {background-color: #d4ebff;}#sk-container-id-4 div.sk-parallel-item::after {content: \"\";width: 100%;border-bottom: 1px solid gray;flex-grow: 1;}#sk-container-id-4 div.sk-label:hover label.sk-toggleable__label {background-color: #d4ebff;}#sk-container-id-4 div.sk-serial::before {content: \"\";position: absolute;border-left: 1px solid gray;box-sizing: border-box;top: 0;bottom: 0;left: 50%;z-index: 0;}#sk-container-id-4 div.sk-serial {display: flex;flex-direction: column;align-items: center;background-color: white;padding-right: 0.2em;padding-left: 0.2em;position: relative;}#sk-container-id-4 div.sk-item {position: relative;z-index: 1;}#sk-container-id-4 div.sk-parallel {display: flex;align-items: stretch;justify-content: center;background-color: white;position: relative;}#sk-container-id-4 div.sk-item::before, #sk-container-id-4 div.sk-parallel-item::before {content: \"\";position: absolute;border-left: 1px solid gray;box-sizing: border-box;top: 0;bottom: 0;left: 50%;z-index: -1;}#sk-container-id-4 div.sk-parallel-item {display: flex;flex-direction: column;z-index: 1;position: relative;background-color: white;}#sk-container-id-4 div.sk-parallel-item:first-child::after {align-self: flex-end;width: 50%;}#sk-container-id-4 div.sk-parallel-item:last-child::after {align-self: flex-start;width: 50%;}#sk-container-id-4 div.sk-parallel-item:only-child::after {width: 0;}#sk-container-id-4 div.sk-dashed-wrapped {border: 1px dashed gray;margin: 0 0.4em 0.5em 0.4em;box-sizing: border-box;padding-bottom: 0.4em;background-color: white;}#sk-container-id-4 div.sk-label label {font-family: monospace;font-weight: bold;display: inline-block;line-height: 1.2em;}#sk-container-id-4 div.sk-label-container {text-align: center;}#sk-container-id-4 div.sk-container {/* jupyter's `normalize.less` sets `[hidden] { display: none; }` but bootstrap.min.css set `[hidden] { display: none !important; }` so we also need the `!important` here to be able to override the default hidden behavior on the sphinx rendered scikit-learn.org. See: https://github.com/scikit-learn/scikit-learn/issues/21755 */display: inline-block !important;position: relative;}#sk-container-id-4 div.sk-text-repr-fallback {display: none;}</style><div id=\"sk-container-id-4\" class=\"sk-top-container\"><div class=\"sk-text-repr-fallback\"><pre>GridSearchCV(cv=5, estimator=LogisticRegression(random_state=42),\n",
              "             param_grid={&#x27;C&#x27;: [0.01, 0.1, 1, 10, 100]}, scoring=&#x27;roc_auc&#x27;)</pre><b>In a Jupyter environment, please rerun this cell to show the HTML representation or trust the notebook. <br />On GitHub, the HTML representation is unable to render, please try loading this page with nbviewer.org.</b></div><div class=\"sk-container\" hidden><div class=\"sk-item sk-dashed-wrapped\"><div class=\"sk-label-container\"><div class=\"sk-label sk-toggleable\"><input class=\"sk-toggleable__control sk-hidden--visually\" id=\"sk-estimator-id-8\" type=\"checkbox\" ><label for=\"sk-estimator-id-8\" class=\"sk-toggleable__label sk-toggleable__label-arrow\">GridSearchCV</label><div class=\"sk-toggleable__content\"><pre>GridSearchCV(cv=5, estimator=LogisticRegression(random_state=42),\n",
              "             param_grid={&#x27;C&#x27;: [0.01, 0.1, 1, 10, 100]}, scoring=&#x27;roc_auc&#x27;)</pre></div></div></div><div class=\"sk-parallel\"><div class=\"sk-parallel-item\"><div class=\"sk-item\"><div class=\"sk-label-container\"><div class=\"sk-label sk-toggleable\"><input class=\"sk-toggleable__control sk-hidden--visually\" id=\"sk-estimator-id-9\" type=\"checkbox\" ><label for=\"sk-estimator-id-9\" class=\"sk-toggleable__label sk-toggleable__label-arrow\">estimator: LogisticRegression</label><div class=\"sk-toggleable__content\"><pre>LogisticRegression(random_state=42)</pre></div></div></div><div class=\"sk-serial\"><div class=\"sk-item\"><div class=\"sk-estimator sk-toggleable\"><input class=\"sk-toggleable__control sk-hidden--visually\" id=\"sk-estimator-id-10\" type=\"checkbox\" ><label for=\"sk-estimator-id-10\" class=\"sk-toggleable__label sk-toggleable__label-arrow\">LogisticRegression</label><div class=\"sk-toggleable__content\"><pre>LogisticRegression(random_state=42)</pre></div></div></div></div></div></div></div></div></div></div>"
            ],
            "text/plain": [
              "GridSearchCV(cv=5, estimator=LogisticRegression(random_state=42),\n",
              "             param_grid={'C': [0.01, 0.1, 1, 10, 100]}, scoring='roc_auc')"
            ]
          },
          "execution_count": 37,
          "metadata": {},
          "output_type": "execute_result"
        }
      ],
      "source": [
        "grid_lg.fit(X_train_transform,y_train)"
      ]
    },
    {
      "cell_type": "code",
      "execution_count": 38,
      "metadata": {
        "colab": {
          "base_uri": "https://localhost:8080/",
          "height": 206
        },
        "id": "nP8Xui4Q1ooH",
        "outputId": "d4f76d5e-1961-4baa-9c1b-111006a15cac"
      },
      "outputs": [
        {
          "data": {
            "text/html": [
              "<div>\n",
              "<style scoped>\n",
              "    .dataframe tbody tr th:only-of-type {\n",
              "        vertical-align: middle;\n",
              "    }\n",
              "\n",
              "    .dataframe tbody tr th {\n",
              "        vertical-align: top;\n",
              "    }\n",
              "\n",
              "    .dataframe thead th {\n",
              "        text-align: right;\n",
              "    }\n",
              "</style>\n",
              "<table border=\"1\" class=\"dataframe\">\n",
              "  <thead>\n",
              "    <tr style=\"text-align: right;\">\n",
              "      <th></th>\n",
              "      <th>params</th>\n",
              "      <th>mean_test_score</th>\n",
              "      <th>rank_test_score</th>\n",
              "      <th>split0_test_score</th>\n",
              "      <th>split1_test_score</th>\n",
              "      <th>split2_test_score</th>\n",
              "    </tr>\n",
              "  </thead>\n",
              "  <tbody>\n",
              "    <tr>\n",
              "      <th>0</th>\n",
              "      <td>{'C': 0.01}</td>\n",
              "      <td>0.760185</td>\n",
              "      <td>5</td>\n",
              "      <td>0.762202</td>\n",
              "      <td>0.759428</td>\n",
              "      <td>0.757892</td>\n",
              "    </tr>\n",
              "    <tr>\n",
              "      <th>1</th>\n",
              "      <td>{'C': 0.1}</td>\n",
              "      <td>0.761106</td>\n",
              "      <td>4</td>\n",
              "      <td>0.763031</td>\n",
              "      <td>0.760222</td>\n",
              "      <td>0.758837</td>\n",
              "    </tr>\n",
              "    <tr>\n",
              "      <th>2</th>\n",
              "      <td>{'C': 1}</td>\n",
              "      <td>0.761195</td>\n",
              "      <td>3</td>\n",
              "      <td>0.763108</td>\n",
              "      <td>0.760296</td>\n",
              "      <td>0.758927</td>\n",
              "    </tr>\n",
              "    <tr>\n",
              "      <th>3</th>\n",
              "      <td>{'C': 10}</td>\n",
              "      <td>0.761203</td>\n",
              "      <td>2</td>\n",
              "      <td>0.763116</td>\n",
              "      <td>0.760303</td>\n",
              "      <td>0.758936</td>\n",
              "    </tr>\n",
              "    <tr>\n",
              "      <th>4</th>\n",
              "      <td>{'C': 100}</td>\n",
              "      <td>0.761204</td>\n",
              "      <td>1</td>\n",
              "      <td>0.763117</td>\n",
              "      <td>0.760304</td>\n",
              "      <td>0.758937</td>\n",
              "    </tr>\n",
              "  </tbody>\n",
              "</table>\n",
              "</div>"
            ],
            "text/plain": [
              "        params  mean_test_score  rank_test_score  split0_test_score  \\\n",
              "0  {'C': 0.01}         0.760185                5           0.762202   \n",
              "1   {'C': 0.1}         0.761106                4           0.763031   \n",
              "2     {'C': 1}         0.761195                3           0.763108   \n",
              "3    {'C': 10}         0.761203                2           0.763116   \n",
              "4   {'C': 100}         0.761204                1           0.763117   \n",
              "\n",
              "   split1_test_score  split2_test_score  \n",
              "0           0.759428           0.757892  \n",
              "1           0.760222           0.758837  \n",
              "2           0.760296           0.758927  \n",
              "3           0.760303           0.758936  \n",
              "4           0.760304           0.758937  "
            ]
          },
          "execution_count": 38,
          "metadata": {},
          "output_type": "execute_result"
        }
      ],
      "source": [
        "scores_df=pd.DataFrame(grid_lg.cv_results_)\n",
        "scores_df[['params','mean_test_score','rank_test_score',\n",
        "           'split0_test_score','split1_test_score','split2_test_score']]"
      ]
    },
    {
      "cell_type": "code",
      "execution_count": 39,
      "metadata": {
        "colab": {
          "base_uri": "https://localhost:8080/"
        },
        "id": "sWnFZzTy13ht",
        "outputId": "659e5d0b-6b9c-4e40-ce08-3503f1710d49"
      },
      "outputs": [
        {
          "name": "stdout",
          "output_type": "stream",
          "text": [
            "GridSearchCV 최적 파라미터: {'C': 100}\n",
            "GridSearchCV 최고 정확도:0.7612\n"
          ]
        }
      ],
      "source": [
        "print('GridSearchCV 최적 파라미터:', grid_lg.best_params_)\n",
        "print('GridSearchCV 최고 정확도:{0:.4f}'.format(grid_lg.best_score_))"
      ]
    },
    {
      "cell_type": "code",
      "execution_count": 40,
      "metadata": {
        "id": "ecxwV0C64CK1"
      },
      "outputs": [],
      "source": [
        "# GridSearchCV의 refit으로 이미 학습된 estimator 반환 \n",
        "\n",
        "best_lg=grid_lg.best_estimator_"
      ]
    },
    {
      "cell_type": "code",
      "execution_count": 41,
      "metadata": {
        "colab": {
          "base_uri": "https://localhost:8080/"
        },
        "id": "NTdifrGSjSZA",
        "outputId": "c66b7064-511a-43e8-d913-027784be7984"
      },
      "outputs": [
        {
          "name": "stdout",
          "output_type": "stream",
          "text": [
            "Test accuracy:  0.7826947637292465\n",
            "Test set precision:  0.7927380523436732\n",
            "Test set recall:  0.9806118314424636\n"
          ]
        },
        {
          "name": "stdout",
          "output_type": "stream",
          "text": [
            "Test set F1 score:  0.8767229980619102\n",
            "Test set AUC Score:  0.7608525751894583\n"
          ]
        }
      ],
      "source": [
        "pred_lg=best_lg.predict(X_test_transform)\n",
        "prob_lg=best_lg.predict_proba(X_test_transform)[:,1]\n",
        "\n",
        "print('Test accuracy: ', accuracy_score(y_test, pred_lg))\n",
        "print('Test set precision: ',precision_score(y_test,pred_lg))\n",
        "print('Test set recall: ', recall_score(y_test,pred_lg))\n",
        "print('Test set F1 score: ', f1_score(y_test, pred_lg))\n",
        "print('Test set AUC Score: ', roc_auc_score(y_test,prob_lg))"
      ]
    },
    {
      "cell_type": "code",
      "execution_count": null,
      "metadata": {},
      "outputs": [],
      "source": []
    },
    {
      "cell_type": "markdown",
      "metadata": {
        "id": "kLSz5Ymf3ea-"
      },
      "source": [
        "## KNN 모델 구축"
      ]
    },
    {
      "cell_type": "code",
      "execution_count": 42,
      "metadata": {
        "id": "ibVbvZPFf4Fq"
      },
      "outputs": [],
      "source": [
        "grid_params = {\n",
        "    'n_neighbors' : list(range(1,10)),\n",
        "    'metric' : ['euclidean', 'manhattan']\n",
        "}"
      ]
    },
    {
      "cell_type": "code",
      "execution_count": 43,
      "metadata": {
        "colab": {
          "base_uri": "https://localhost:8080/"
        },
        "id": "qj0D7mpOtFO5",
        "outputId": "db1f5f9e-6ec6-4ff0-f403-59b3b397c534"
      },
      "outputs": [],
      "source": [
        "## Simple model\n",
        "\n",
        "knn=KNeighborsClassifier()"
      ]
    },
    {
      "cell_type": "code",
      "execution_count": 44,
      "metadata": {
        "id": "W9olnjWBq2oF"
      },
      "outputs": [],
      "source": [
        "grid_knn = GridSearchCV(knn, grid_params, cv=5,scoring=\"roc_auc\")"
      ]
    },
    {
      "cell_type": "code",
      "execution_count": 45,
      "metadata": {
        "colab": {
          "base_uri": "https://localhost:8080/"
        },
        "id": "wXCHR8tyRzq0",
        "outputId": "9b3dd060-7757-4b7c-abe4-c19bc203909c"
      },
      "outputs": [
        {
          "data": {
            "text/html": [
              "<style>#sk-container-id-5 {color: black;background-color: white;}#sk-container-id-5 pre{padding: 0;}#sk-container-id-5 div.sk-toggleable {background-color: white;}#sk-container-id-5 label.sk-toggleable__label {cursor: pointer;display: block;width: 100%;margin-bottom: 0;padding: 0.3em;box-sizing: border-box;text-align: center;}#sk-container-id-5 label.sk-toggleable__label-arrow:before {content: \"▸\";float: left;margin-right: 0.25em;color: #696969;}#sk-container-id-5 label.sk-toggleable__label-arrow:hover:before {color: black;}#sk-container-id-5 div.sk-estimator:hover label.sk-toggleable__label-arrow:before {color: black;}#sk-container-id-5 div.sk-toggleable__content {max-height: 0;max-width: 0;overflow: hidden;text-align: left;background-color: #f0f8ff;}#sk-container-id-5 div.sk-toggleable__content pre {margin: 0.2em;color: black;border-radius: 0.25em;background-color: #f0f8ff;}#sk-container-id-5 input.sk-toggleable__control:checked~div.sk-toggleable__content {max-height: 200px;max-width: 100%;overflow: auto;}#sk-container-id-5 input.sk-toggleable__control:checked~label.sk-toggleable__label-arrow:before {content: \"▾\";}#sk-container-id-5 div.sk-estimator input.sk-toggleable__control:checked~label.sk-toggleable__label {background-color: #d4ebff;}#sk-container-id-5 div.sk-label input.sk-toggleable__control:checked~label.sk-toggleable__label {background-color: #d4ebff;}#sk-container-id-5 input.sk-hidden--visually {border: 0;clip: rect(1px 1px 1px 1px);clip: rect(1px, 1px, 1px, 1px);height: 1px;margin: -1px;overflow: hidden;padding: 0;position: absolute;width: 1px;}#sk-container-id-5 div.sk-estimator {font-family: monospace;background-color: #f0f8ff;border: 1px dotted black;border-radius: 0.25em;box-sizing: border-box;margin-bottom: 0.5em;}#sk-container-id-5 div.sk-estimator:hover {background-color: #d4ebff;}#sk-container-id-5 div.sk-parallel-item::after {content: \"\";width: 100%;border-bottom: 1px solid gray;flex-grow: 1;}#sk-container-id-5 div.sk-label:hover label.sk-toggleable__label {background-color: #d4ebff;}#sk-container-id-5 div.sk-serial::before {content: \"\";position: absolute;border-left: 1px solid gray;box-sizing: border-box;top: 0;bottom: 0;left: 50%;z-index: 0;}#sk-container-id-5 div.sk-serial {display: flex;flex-direction: column;align-items: center;background-color: white;padding-right: 0.2em;padding-left: 0.2em;position: relative;}#sk-container-id-5 div.sk-item {position: relative;z-index: 1;}#sk-container-id-5 div.sk-parallel {display: flex;align-items: stretch;justify-content: center;background-color: white;position: relative;}#sk-container-id-5 div.sk-item::before, #sk-container-id-5 div.sk-parallel-item::before {content: \"\";position: absolute;border-left: 1px solid gray;box-sizing: border-box;top: 0;bottom: 0;left: 50%;z-index: -1;}#sk-container-id-5 div.sk-parallel-item {display: flex;flex-direction: column;z-index: 1;position: relative;background-color: white;}#sk-container-id-5 div.sk-parallel-item:first-child::after {align-self: flex-end;width: 50%;}#sk-container-id-5 div.sk-parallel-item:last-child::after {align-self: flex-start;width: 50%;}#sk-container-id-5 div.sk-parallel-item:only-child::after {width: 0;}#sk-container-id-5 div.sk-dashed-wrapped {border: 1px dashed gray;margin: 0 0.4em 0.5em 0.4em;box-sizing: border-box;padding-bottom: 0.4em;background-color: white;}#sk-container-id-5 div.sk-label label {font-family: monospace;font-weight: bold;display: inline-block;line-height: 1.2em;}#sk-container-id-5 div.sk-label-container {text-align: center;}#sk-container-id-5 div.sk-container {/* jupyter's `normalize.less` sets `[hidden] { display: none; }` but bootstrap.min.css set `[hidden] { display: none !important; }` so we also need the `!important` here to be able to override the default hidden behavior on the sphinx rendered scikit-learn.org. See: https://github.com/scikit-learn/scikit-learn/issues/21755 */display: inline-block !important;position: relative;}#sk-container-id-5 div.sk-text-repr-fallback {display: none;}</style><div id=\"sk-container-id-5\" class=\"sk-top-container\"><div class=\"sk-text-repr-fallback\"><pre>GridSearchCV(cv=5, estimator=KNeighborsClassifier(),\n",
              "             param_grid={&#x27;metric&#x27;: [&#x27;euclidean&#x27;, &#x27;manhattan&#x27;],\n",
              "                         &#x27;n_neighbors&#x27;: [1, 2, 3, 4, 5, 6, 7, 8, 9]},\n",
              "             scoring=&#x27;roc_auc&#x27;)</pre><b>In a Jupyter environment, please rerun this cell to show the HTML representation or trust the notebook. <br />On GitHub, the HTML representation is unable to render, please try loading this page with nbviewer.org.</b></div><div class=\"sk-container\" hidden><div class=\"sk-item sk-dashed-wrapped\"><div class=\"sk-label-container\"><div class=\"sk-label sk-toggleable\"><input class=\"sk-toggleable__control sk-hidden--visually\" id=\"sk-estimator-id-11\" type=\"checkbox\" ><label for=\"sk-estimator-id-11\" class=\"sk-toggleable__label sk-toggleable__label-arrow\">GridSearchCV</label><div class=\"sk-toggleable__content\"><pre>GridSearchCV(cv=5, estimator=KNeighborsClassifier(),\n",
              "             param_grid={&#x27;metric&#x27;: [&#x27;euclidean&#x27;, &#x27;manhattan&#x27;],\n",
              "                         &#x27;n_neighbors&#x27;: [1, 2, 3, 4, 5, 6, 7, 8, 9]},\n",
              "             scoring=&#x27;roc_auc&#x27;)</pre></div></div></div><div class=\"sk-parallel\"><div class=\"sk-parallel-item\"><div class=\"sk-item\"><div class=\"sk-label-container\"><div class=\"sk-label sk-toggleable\"><input class=\"sk-toggleable__control sk-hidden--visually\" id=\"sk-estimator-id-12\" type=\"checkbox\" ><label for=\"sk-estimator-id-12\" class=\"sk-toggleable__label sk-toggleable__label-arrow\">estimator: KNeighborsClassifier</label><div class=\"sk-toggleable__content\"><pre>KNeighborsClassifier()</pre></div></div></div><div class=\"sk-serial\"><div class=\"sk-item\"><div class=\"sk-estimator sk-toggleable\"><input class=\"sk-toggleable__control sk-hidden--visually\" id=\"sk-estimator-id-13\" type=\"checkbox\" ><label for=\"sk-estimator-id-13\" class=\"sk-toggleable__label sk-toggleable__label-arrow\">KNeighborsClassifier</label><div class=\"sk-toggleable__content\"><pre>KNeighborsClassifier()</pre></div></div></div></div></div></div></div></div></div></div>"
            ],
            "text/plain": [
              "GridSearchCV(cv=5, estimator=KNeighborsClassifier(),\n",
              "             param_grid={'metric': ['euclidean', 'manhattan'],\n",
              "                         'n_neighbors': [1, 2, 3, 4, 5, 6, 7, 8, 9]},\n",
              "             scoring='roc_auc')"
            ]
          },
          "execution_count": 45,
          "metadata": {},
          "output_type": "execute_result"
        }
      ],
      "source": [
        "grid_knn.fit(X_train_transform,y_train)"
      ]
    },
    {
      "cell_type": "code",
      "execution_count": 46,
      "metadata": {
        "colab": {
          "base_uri": "https://localhost:8080/",
          "height": 802
        },
        "id": "iMu1wbAoQDkE",
        "outputId": "f954f7d6-ac43-48ea-b91f-ecc69dc072c7"
      },
      "outputs": [
        {
          "data": {
            "text/html": [
              "<div>\n",
              "<style scoped>\n",
              "    .dataframe tbody tr th:only-of-type {\n",
              "        vertical-align: middle;\n",
              "    }\n",
              "\n",
              "    .dataframe tbody tr th {\n",
              "        vertical-align: top;\n",
              "    }\n",
              "\n",
              "    .dataframe thead th {\n",
              "        text-align: right;\n",
              "    }\n",
              "</style>\n",
              "<table border=\"1\" class=\"dataframe\">\n",
              "  <thead>\n",
              "    <tr style=\"text-align: right;\">\n",
              "      <th></th>\n",
              "      <th>params</th>\n",
              "      <th>mean_test_score</th>\n",
              "      <th>rank_test_score</th>\n",
              "      <th>split0_test_score</th>\n",
              "      <th>split1_test_score</th>\n",
              "      <th>split2_test_score</th>\n",
              "    </tr>\n",
              "  </thead>\n",
              "  <tbody>\n",
              "    <tr>\n",
              "      <th>0</th>\n",
              "      <td>{'metric': 'euclidean', 'n_neighbors': 1}</td>\n",
              "      <td>0.600098</td>\n",
              "      <td>18</td>\n",
              "      <td>0.600603</td>\n",
              "      <td>0.600177</td>\n",
              "      <td>0.598121</td>\n",
              "    </tr>\n",
              "    <tr>\n",
              "      <th>1</th>\n",
              "      <td>{'metric': 'euclidean', 'n_neighbors': 2}</td>\n",
              "      <td>0.656225</td>\n",
              "      <td>16</td>\n",
              "      <td>0.656728</td>\n",
              "      <td>0.656227</td>\n",
              "      <td>0.654932</td>\n",
              "    </tr>\n",
              "    <tr>\n",
              "      <th>2</th>\n",
              "      <td>{'metric': 'euclidean', 'n_neighbors': 3}</td>\n",
              "      <td>0.690611</td>\n",
              "      <td>13</td>\n",
              "      <td>0.691799</td>\n",
              "      <td>0.691161</td>\n",
              "      <td>0.688205</td>\n",
              "    </tr>\n",
              "    <tr>\n",
              "      <th>3</th>\n",
              "      <td>{'metric': 'euclidean', 'n_neighbors': 4}</td>\n",
              "      <td>0.712614</td>\n",
              "      <td>12</td>\n",
              "      <td>0.713815</td>\n",
              "      <td>0.713825</td>\n",
              "      <td>0.710074</td>\n",
              "    </tr>\n",
              "    <tr>\n",
              "      <th>4</th>\n",
              "      <td>{'metric': 'euclidean', 'n_neighbors': 5}</td>\n",
              "      <td>0.728446</td>\n",
              "      <td>9</td>\n",
              "      <td>0.729568</td>\n",
              "      <td>0.729534</td>\n",
              "      <td>0.726014</td>\n",
              "    </tr>\n",
              "    <tr>\n",
              "      <th>5</th>\n",
              "      <td>{'metric': 'euclidean', 'n_neighbors': 6}</td>\n",
              "      <td>0.739388</td>\n",
              "      <td>8</td>\n",
              "      <td>0.740244</td>\n",
              "      <td>0.740277</td>\n",
              "      <td>0.737429</td>\n",
              "    </tr>\n",
              "    <tr>\n",
              "      <th>6</th>\n",
              "      <td>{'metric': 'euclidean', 'n_neighbors': 7}</td>\n",
              "      <td>0.748084</td>\n",
              "      <td>5</td>\n",
              "      <td>0.748568</td>\n",
              "      <td>0.748370</td>\n",
              "      <td>0.746657</td>\n",
              "    </tr>\n",
              "    <tr>\n",
              "      <th>7</th>\n",
              "      <td>{'metric': 'euclidean', 'n_neighbors': 8}</td>\n",
              "      <td>0.754548</td>\n",
              "      <td>3</td>\n",
              "      <td>0.754943</td>\n",
              "      <td>0.754444</td>\n",
              "      <td>0.753308</td>\n",
              "    </tr>\n",
              "    <tr>\n",
              "      <th>8</th>\n",
              "      <td>{'metric': 'euclidean', 'n_neighbors': 9}</td>\n",
              "      <td>0.759088</td>\n",
              "      <td>2</td>\n",
              "      <td>0.759583</td>\n",
              "      <td>0.758808</td>\n",
              "      <td>0.757500</td>\n",
              "    </tr>\n",
              "    <tr>\n",
              "      <th>9</th>\n",
              "      <td>{'metric': 'manhattan', 'n_neighbors': 1}</td>\n",
              "      <td>0.600169</td>\n",
              "      <td>17</td>\n",
              "      <td>0.600241</td>\n",
              "      <td>0.600280</td>\n",
              "      <td>0.597937</td>\n",
              "    </tr>\n",
              "    <tr>\n",
              "      <th>10</th>\n",
              "      <td>{'metric': 'manhattan', 'n_neighbors': 2}</td>\n",
              "      <td>0.656305</td>\n",
              "      <td>15</td>\n",
              "      <td>0.657659</td>\n",
              "      <td>0.655252</td>\n",
              "      <td>0.654797</td>\n",
              "    </tr>\n",
              "    <tr>\n",
              "      <th>11</th>\n",
              "      <td>{'metric': 'manhattan', 'n_neighbors': 3}</td>\n",
              "      <td>0.690405</td>\n",
              "      <td>14</td>\n",
              "      <td>0.692849</td>\n",
              "      <td>0.690406</td>\n",
              "      <td>0.688909</td>\n",
              "    </tr>\n",
              "    <tr>\n",
              "      <th>12</th>\n",
              "      <td>{'metric': 'manhattan', 'n_neighbors': 4}</td>\n",
              "      <td>0.713150</td>\n",
              "      <td>11</td>\n",
              "      <td>0.714240</td>\n",
              "      <td>0.713809</td>\n",
              "      <td>0.711846</td>\n",
              "    </tr>\n",
              "    <tr>\n",
              "      <th>13</th>\n",
              "      <td>{'metric': 'manhattan', 'n_neighbors': 5}</td>\n",
              "      <td>0.728339</td>\n",
              "      <td>10</td>\n",
              "      <td>0.729485</td>\n",
              "      <td>0.728138</td>\n",
              "      <td>0.726780</td>\n",
              "    </tr>\n",
              "    <tr>\n",
              "      <th>14</th>\n",
              "      <td>{'metric': 'manhattan', 'n_neighbors': 6}</td>\n",
              "      <td>0.739520</td>\n",
              "      <td>7</td>\n",
              "      <td>0.740656</td>\n",
              "      <td>0.739546</td>\n",
              "      <td>0.737926</td>\n",
              "    </tr>\n",
              "    <tr>\n",
              "      <th>15</th>\n",
              "      <td>{'metric': 'manhattan', 'n_neighbors': 7}</td>\n",
              "      <td>0.748084</td>\n",
              "      <td>6</td>\n",
              "      <td>0.749312</td>\n",
              "      <td>0.748223</td>\n",
              "      <td>0.746238</td>\n",
              "    </tr>\n",
              "    <tr>\n",
              "      <th>16</th>\n",
              "      <td>{'metric': 'manhattan', 'n_neighbors': 8}</td>\n",
              "      <td>0.754287</td>\n",
              "      <td>4</td>\n",
              "      <td>0.755703</td>\n",
              "      <td>0.754355</td>\n",
              "      <td>0.751946</td>\n",
              "    </tr>\n",
              "    <tr>\n",
              "      <th>17</th>\n",
              "      <td>{'metric': 'manhattan', 'n_neighbors': 9}</td>\n",
              "      <td>0.759350</td>\n",
              "      <td>1</td>\n",
              "      <td>0.760620</td>\n",
              "      <td>0.758887</td>\n",
              "      <td>0.757151</td>\n",
              "    </tr>\n",
              "  </tbody>\n",
              "</table>\n",
              "</div>"
            ],
            "text/plain": [
              "                                       params  mean_test_score  \\\n",
              "0   {'metric': 'euclidean', 'n_neighbors': 1}         0.600098   \n",
              "1   {'metric': 'euclidean', 'n_neighbors': 2}         0.656225   \n",
              "2   {'metric': 'euclidean', 'n_neighbors': 3}         0.690611   \n",
              "3   {'metric': 'euclidean', 'n_neighbors': 4}         0.712614   \n",
              "4   {'metric': 'euclidean', 'n_neighbors': 5}         0.728446   \n",
              "5   {'metric': 'euclidean', 'n_neighbors': 6}         0.739388   \n",
              "6   {'metric': 'euclidean', 'n_neighbors': 7}         0.748084   \n",
              "7   {'metric': 'euclidean', 'n_neighbors': 8}         0.754548   \n",
              "8   {'metric': 'euclidean', 'n_neighbors': 9}         0.759088   \n",
              "9   {'metric': 'manhattan', 'n_neighbors': 1}         0.600169   \n",
              "10  {'metric': 'manhattan', 'n_neighbors': 2}         0.656305   \n",
              "11  {'metric': 'manhattan', 'n_neighbors': 3}         0.690405   \n",
              "12  {'metric': 'manhattan', 'n_neighbors': 4}         0.713150   \n",
              "13  {'metric': 'manhattan', 'n_neighbors': 5}         0.728339   \n",
              "14  {'metric': 'manhattan', 'n_neighbors': 6}         0.739520   \n",
              "15  {'metric': 'manhattan', 'n_neighbors': 7}         0.748084   \n",
              "16  {'metric': 'manhattan', 'n_neighbors': 8}         0.754287   \n",
              "17  {'metric': 'manhattan', 'n_neighbors': 9}         0.759350   \n",
              "\n",
              "    rank_test_score  split0_test_score  split1_test_score  split2_test_score  \n",
              "0                18           0.600603           0.600177           0.598121  \n",
              "1                16           0.656728           0.656227           0.654932  \n",
              "2                13           0.691799           0.691161           0.688205  \n",
              "3                12           0.713815           0.713825           0.710074  \n",
              "4                 9           0.729568           0.729534           0.726014  \n",
              "5                 8           0.740244           0.740277           0.737429  \n",
              "6                 5           0.748568           0.748370           0.746657  \n",
              "7                 3           0.754943           0.754444           0.753308  \n",
              "8                 2           0.759583           0.758808           0.757500  \n",
              "9                17           0.600241           0.600280           0.597937  \n",
              "10               15           0.657659           0.655252           0.654797  \n",
              "11               14           0.692849           0.690406           0.688909  \n",
              "12               11           0.714240           0.713809           0.711846  \n",
              "13               10           0.729485           0.728138           0.726780  \n",
              "14                7           0.740656           0.739546           0.737926  \n",
              "15                6           0.749312           0.748223           0.746238  \n",
              "16                4           0.755703           0.754355           0.751946  \n",
              "17                1           0.760620           0.758887           0.757151  "
            ]
          },
          "execution_count": 46,
          "metadata": {},
          "output_type": "execute_result"
        }
      ],
      "source": [
        "scores_df=pd.DataFrame(grid_knn.cv_results_)\n",
        "scores_df[['params','mean_test_score','rank_test_score',\n",
        "           'split0_test_score','split1_test_score','split2_test_score']]"
      ]
    },
    {
      "cell_type": "code",
      "execution_count": 47,
      "metadata": {
        "colab": {
          "base_uri": "https://localhost:8080/"
        },
        "id": "aGJa2z4nxWQ0",
        "outputId": "e027d70c-e7f8-4e9b-9d41-430d1ca33884"
      },
      "outputs": [
        {
          "name": "stdout",
          "output_type": "stream",
          "text": [
            "GridSearchCV 최적 파라미터: {'metric': 'manhattan', 'n_neighbors': 9}\n",
            "GridSearchCV 최고 정확도:0.7594\n"
          ]
        }
      ],
      "source": [
        "print('GridSearchCV 최적 파라미터:', grid_knn.best_params_)\n",
        "print('GridSearchCV 최고 정확도:{0:.4f}'.format(grid_knn.best_score_))"
      ]
    },
    {
      "cell_type": "code",
      "execution_count": 48,
      "metadata": {
        "id": "d4Mhufm44_oM"
      },
      "outputs": [],
      "source": [
        "# GridSearchCV의 refit으로 이미 학습된 estimator 반환 \n",
        "\n",
        "best_knn=grid_knn.best_estimator_ \n"
      ]
    },
    {
      "cell_type": "code",
      "execution_count": 49,
      "metadata": {
        "colab": {
          "base_uri": "https://localhost:8080/"
        },
        "id": "ozwv7Iicxj40",
        "outputId": "fc5de8d0-eabc-47b0-f8b1-1d12fc8f1584"
      },
      "outputs": [
        {
          "name": "stdout",
          "output_type": "stream",
          "text": [
            "Test accuracy:  0.7738625478927204\n",
            "Test set precision:  0.8205014957449812\n",
            "Test set recall:  0.9126873987034035\n",
            "Test set F1 score:  0.8641428273426317\n",
            "Test set AUC Score:  0.7578260266806692\n"
          ]
        }
      ],
      "source": [
        "pred_knn=best_knn.predict(X_test_transform)\n",
        "prob_knn=best_knn.predict_proba(X_test_transform)[:,1]\n",
        "\n",
        "print('Test accuracy: ', accuracy_score(y_test, pred_knn))\n",
        "print('Test set precision: ',precision_score(y_test,pred_knn))\n",
        "print('Test set recall: ', recall_score(y_test,pred_knn))\n",
        "print('Test set F1 score: ', f1_score(y_test, pred_knn))\n",
        "print('Test set AUC Score: ', roc_auc_score(y_test,prob_knn))"
      ]
    },
    {
      "cell_type": "markdown",
      "metadata": {
        "id": "uDFTYgetR-58"
      },
      "source": [
        "## 랜덤포레스트 모형 및 최적의 하이퍼 파라미터 및 튜닝하기"
      ]
    },
    {
      "cell_type": "code",
      "execution_count": 50,
      "metadata": {
        "id": "yLeLp0qsRpBi"
      },
      "outputs": [],
      "source": [
        "params={\n",
        "    'n_estimators': [100,200],\n",
        "    'max_depth':[5,7,9],\n",
        "    'min_samples_split': [2,4,8]\n",
        "}"
      ]
    },
    {
      "cell_type": "code",
      "execution_count": 51,
      "metadata": {
        "colab": {
          "base_uri": "https://localhost:8080/"
        },
        "id": "sMTj4Zk1TUKC",
        "outputId": "79f8d8cd-e10b-4842-fac8-706865772688"
      },
      "outputs": [
        {
          "name": "stderr",
          "output_type": "stream",
          "text": [
            "/dshome/WoongLab/.local/lib/python3.8/site-packages/sklearn/model_selection/_validation.py:686: DataConversionWarning: A column-vector y was passed when a 1d array was expected. Please change the shape of y to (n_samples,), for example using ravel().\n",
            "  estimator.fit(X_train, y_train, **fit_params)\n",
            "/dshome/WoongLab/.local/lib/python3.8/site-packages/sklearn/model_selection/_validation.py:686: DataConversionWarning: A column-vector y was passed when a 1d array was expected. Please change the shape of y to (n_samples,), for example using ravel().\n",
            "  estimator.fit(X_train, y_train, **fit_params)\n",
            "/dshome/WoongLab/.local/lib/python3.8/site-packages/sklearn/model_selection/_validation.py:686: DataConversionWarning: A column-vector y was passed when a 1d array was expected. Please change the shape of y to (n_samples,), for example using ravel().\n",
            "  estimator.fit(X_train, y_train, **fit_params)\n",
            "/dshome/WoongLab/.local/lib/python3.8/site-packages/sklearn/model_selection/_validation.py:686: DataConversionWarning: A column-vector y was passed when a 1d array was expected. Please change the shape of y to (n_samples,), for example using ravel().\n",
            "  estimator.fit(X_train, y_train, **fit_params)\n",
            "/dshome/WoongLab/.local/lib/python3.8/site-packages/sklearn/model_selection/_validation.py:686: DataConversionWarning: A column-vector y was passed when a 1d array was expected. Please change the shape of y to (n_samples,), for example using ravel().\n",
            "  estimator.fit(X_train, y_train, **fit_params)\n",
            "/dshome/WoongLab/.local/lib/python3.8/site-packages/sklearn/model_selection/_validation.py:686: DataConversionWarning: A column-vector y was passed when a 1d array was expected. Please change the shape of y to (n_samples,), for example using ravel().\n",
            "  estimator.fit(X_train, y_train, **fit_params)\n",
            "/dshome/WoongLab/.local/lib/python3.8/site-packages/sklearn/model_selection/_validation.py:686: DataConversionWarning: A column-vector y was passed when a 1d array was expected. Please change the shape of y to (n_samples,), for example using ravel().\n",
            "  estimator.fit(X_train, y_train, **fit_params)\n",
            "/dshome/WoongLab/.local/lib/python3.8/site-packages/sklearn/model_selection/_validation.py:686: DataConversionWarning: A column-vector y was passed when a 1d array was expected. Please change the shape of y to (n_samples,), for example using ravel().\n",
            "  estimator.fit(X_train, y_train, **fit_params)\n",
            "/dshome/WoongLab/.local/lib/python3.8/site-packages/sklearn/model_selection/_validation.py:686: DataConversionWarning: A column-vector y was passed when a 1d array was expected. Please change the shape of y to (n_samples,), for example using ravel().\n",
            "  estimator.fit(X_train, y_train, **fit_params)\n",
            "/dshome/WoongLab/.local/lib/python3.8/site-packages/sklearn/model_selection/_validation.py:686: DataConversionWarning: A column-vector y was passed when a 1d array was expected. Please change the shape of y to (n_samples,), for example using ravel().\n",
            "  estimator.fit(X_train, y_train, **fit_params)\n",
            "/dshome/WoongLab/.local/lib/python3.8/site-packages/sklearn/model_selection/_validation.py:686: DataConversionWarning: A column-vector y was passed when a 1d array was expected. Please change the shape of y to (n_samples,), for example using ravel().\n",
            "  estimator.fit(X_train, y_train, **fit_params)\n",
            "/dshome/WoongLab/.local/lib/python3.8/site-packages/sklearn/model_selection/_validation.py:686: DataConversionWarning: A column-vector y was passed when a 1d array was expected. Please change the shape of y to (n_samples,), for example using ravel().\n",
            "  estimator.fit(X_train, y_train, **fit_params)\n",
            "/dshome/WoongLab/.local/lib/python3.8/site-packages/sklearn/model_selection/_validation.py:686: DataConversionWarning: A column-vector y was passed when a 1d array was expected. Please change the shape of y to (n_samples,), for example using ravel().\n",
            "  estimator.fit(X_train, y_train, **fit_params)\n",
            "/dshome/WoongLab/.local/lib/python3.8/site-packages/sklearn/model_selection/_validation.py:686: DataConversionWarning: A column-vector y was passed when a 1d array was expected. Please change the shape of y to (n_samples,), for example using ravel().\n",
            "  estimator.fit(X_train, y_train, **fit_params)\n",
            "/dshome/WoongLab/.local/lib/python3.8/site-packages/sklearn/model_selection/_validation.py:686: DataConversionWarning: A column-vector y was passed when a 1d array was expected. Please change the shape of y to (n_samples,), for example using ravel().\n",
            "  estimator.fit(X_train, y_train, **fit_params)\n",
            "/dshome/WoongLab/.local/lib/python3.8/site-packages/sklearn/model_selection/_validation.py:686: DataConversionWarning: A column-vector y was passed when a 1d array was expected. Please change the shape of y to (n_samples,), for example using ravel().\n",
            "  estimator.fit(X_train, y_train, **fit_params)\n",
            "/dshome/WoongLab/.local/lib/python3.8/site-packages/sklearn/model_selection/_validation.py:686: DataConversionWarning: A column-vector y was passed when a 1d array was expected. Please change the shape of y to (n_samples,), for example using ravel().\n",
            "  estimator.fit(X_train, y_train, **fit_params)\n",
            "/dshome/WoongLab/.local/lib/python3.8/site-packages/sklearn/model_selection/_validation.py:686: DataConversionWarning: A column-vector y was passed when a 1d array was expected. Please change the shape of y to (n_samples,), for example using ravel().\n",
            "  estimator.fit(X_train, y_train, **fit_params)\n",
            "/dshome/WoongLab/.local/lib/python3.8/site-packages/sklearn/model_selection/_validation.py:686: DataConversionWarning: A column-vector y was passed when a 1d array was expected. Please change the shape of y to (n_samples,), for example using ravel().\n",
            "  estimator.fit(X_train, y_train, **fit_params)\n",
            "/dshome/WoongLab/.local/lib/python3.8/site-packages/sklearn/model_selection/_validation.py:686: DataConversionWarning: A column-vector y was passed when a 1d array was expected. Please change the shape of y to (n_samples,), for example using ravel().\n",
            "  estimator.fit(X_train, y_train, **fit_params)\n",
            "/dshome/WoongLab/.local/lib/python3.8/site-packages/sklearn/model_selection/_validation.py:686: DataConversionWarning: A column-vector y was passed when a 1d array was expected. Please change the shape of y to (n_samples,), for example using ravel().\n",
            "  estimator.fit(X_train, y_train, **fit_params)\n",
            "/dshome/WoongLab/.local/lib/python3.8/site-packages/sklearn/model_selection/_validation.py:686: DataConversionWarning: A column-vector y was passed when a 1d array was expected. Please change the shape of y to (n_samples,), for example using ravel().\n",
            "  estimator.fit(X_train, y_train, **fit_params)\n",
            "/dshome/WoongLab/.local/lib/python3.8/site-packages/sklearn/model_selection/_validation.py:686: DataConversionWarning: A column-vector y was passed when a 1d array was expected. Please change the shape of y to (n_samples,), for example using ravel().\n",
            "  estimator.fit(X_train, y_train, **fit_params)\n",
            "/dshome/WoongLab/.local/lib/python3.8/site-packages/sklearn/model_selection/_validation.py:686: DataConversionWarning: A column-vector y was passed when a 1d array was expected. Please change the shape of y to (n_samples,), for example using ravel().\n",
            "  estimator.fit(X_train, y_train, **fit_params)\n",
            "/dshome/WoongLab/.local/lib/python3.8/site-packages/sklearn/model_selection/_validation.py:686: DataConversionWarning: A column-vector y was passed when a 1d array was expected. Please change the shape of y to (n_samples,), for example using ravel().\n",
            "  estimator.fit(X_train, y_train, **fit_params)\n",
            "/dshome/WoongLab/.local/lib/python3.8/site-packages/sklearn/model_selection/_validation.py:686: DataConversionWarning: A column-vector y was passed when a 1d array was expected. Please change the shape of y to (n_samples,), for example using ravel().\n",
            "  estimator.fit(X_train, y_train, **fit_params)\n",
            "/dshome/WoongLab/.local/lib/python3.8/site-packages/sklearn/model_selection/_validation.py:686: DataConversionWarning: A column-vector y was passed when a 1d array was expected. Please change the shape of y to (n_samples,), for example using ravel().\n",
            "  estimator.fit(X_train, y_train, **fit_params)\n",
            "/dshome/WoongLab/.local/lib/python3.8/site-packages/sklearn/model_selection/_validation.py:686: DataConversionWarning: A column-vector y was passed when a 1d array was expected. Please change the shape of y to (n_samples,), for example using ravel().\n",
            "  estimator.fit(X_train, y_train, **fit_params)\n",
            "/dshome/WoongLab/.local/lib/python3.8/site-packages/sklearn/model_selection/_validation.py:686: DataConversionWarning: A column-vector y was passed when a 1d array was expected. Please change the shape of y to (n_samples,), for example using ravel().\n",
            "  estimator.fit(X_train, y_train, **fit_params)\n",
            "/dshome/WoongLab/.local/lib/python3.8/site-packages/sklearn/model_selection/_validation.py:686: DataConversionWarning: A column-vector y was passed when a 1d array was expected. Please change the shape of y to (n_samples,), for example using ravel().\n",
            "  estimator.fit(X_train, y_train, **fit_params)\n",
            "/dshome/WoongLab/.local/lib/python3.8/site-packages/sklearn/model_selection/_validation.py:686: DataConversionWarning: A column-vector y was passed when a 1d array was expected. Please change the shape of y to (n_samples,), for example using ravel().\n",
            "  estimator.fit(X_train, y_train, **fit_params)\n",
            "/dshome/WoongLab/.local/lib/python3.8/site-packages/sklearn/model_selection/_validation.py:686: DataConversionWarning: A column-vector y was passed when a 1d array was expected. Please change the shape of y to (n_samples,), for example using ravel().\n",
            "  estimator.fit(X_train, y_train, **fit_params)\n",
            "/dshome/WoongLab/.local/lib/python3.8/site-packages/sklearn/model_selection/_validation.py:686: DataConversionWarning: A column-vector y was passed when a 1d array was expected. Please change the shape of y to (n_samples,), for example using ravel().\n",
            "  estimator.fit(X_train, y_train, **fit_params)\n",
            "/dshome/WoongLab/.local/lib/python3.8/site-packages/sklearn/model_selection/_validation.py:686: DataConversionWarning: A column-vector y was passed when a 1d array was expected. Please change the shape of y to (n_samples,), for example using ravel().\n",
            "  estimator.fit(X_train, y_train, **fit_params)\n",
            "/dshome/WoongLab/.local/lib/python3.8/site-packages/sklearn/model_selection/_validation.py:686: DataConversionWarning: A column-vector y was passed when a 1d array was expected. Please change the shape of y to (n_samples,), for example using ravel().\n",
            "  estimator.fit(X_train, y_train, **fit_params)\n",
            "/dshome/WoongLab/.local/lib/python3.8/site-packages/sklearn/model_selection/_validation.py:686: DataConversionWarning: A column-vector y was passed when a 1d array was expected. Please change the shape of y to (n_samples,), for example using ravel().\n",
            "  estimator.fit(X_train, y_train, **fit_params)\n",
            "/dshome/WoongLab/.local/lib/python3.8/site-packages/sklearn/model_selection/_validation.py:686: DataConversionWarning: A column-vector y was passed when a 1d array was expected. Please change the shape of y to (n_samples,), for example using ravel().\n",
            "  estimator.fit(X_train, y_train, **fit_params)\n",
            "/dshome/WoongLab/.local/lib/python3.8/site-packages/sklearn/model_selection/_validation.py:686: DataConversionWarning: A column-vector y was passed when a 1d array was expected. Please change the shape of y to (n_samples,), for example using ravel().\n",
            "  estimator.fit(X_train, y_train, **fit_params)\n",
            "/dshome/WoongLab/.local/lib/python3.8/site-packages/sklearn/model_selection/_validation.py:686: DataConversionWarning: A column-vector y was passed when a 1d array was expected. Please change the shape of y to (n_samples,), for example using ravel().\n",
            "  estimator.fit(X_train, y_train, **fit_params)\n",
            "/dshome/WoongLab/.local/lib/python3.8/site-packages/sklearn/model_selection/_validation.py:686: DataConversionWarning: A column-vector y was passed when a 1d array was expected. Please change the shape of y to (n_samples,), for example using ravel().\n",
            "  estimator.fit(X_train, y_train, **fit_params)\n",
            "/dshome/WoongLab/.local/lib/python3.8/site-packages/sklearn/model_selection/_validation.py:686: DataConversionWarning: A column-vector y was passed when a 1d array was expected. Please change the shape of y to (n_samples,), for example using ravel().\n",
            "  estimator.fit(X_train, y_train, **fit_params)\n",
            "/dshome/WoongLab/.local/lib/python3.8/site-packages/sklearn/model_selection/_validation.py:686: DataConversionWarning: A column-vector y was passed when a 1d array was expected. Please change the shape of y to (n_samples,), for example using ravel().\n",
            "  estimator.fit(X_train, y_train, **fit_params)\n",
            "/dshome/WoongLab/.local/lib/python3.8/site-packages/sklearn/model_selection/_validation.py:686: DataConversionWarning: A column-vector y was passed when a 1d array was expected. Please change the shape of y to (n_samples,), for example using ravel().\n",
            "  estimator.fit(X_train, y_train, **fit_params)\n",
            "/dshome/WoongLab/.local/lib/python3.8/site-packages/sklearn/model_selection/_validation.py:686: DataConversionWarning: A column-vector y was passed when a 1d array was expected. Please change the shape of y to (n_samples,), for example using ravel().\n",
            "  estimator.fit(X_train, y_train, **fit_params)\n",
            "/dshome/WoongLab/.local/lib/python3.8/site-packages/sklearn/model_selection/_validation.py:686: DataConversionWarning: A column-vector y was passed when a 1d array was expected. Please change the shape of y to (n_samples,), for example using ravel().\n",
            "  estimator.fit(X_train, y_train, **fit_params)\n",
            "/dshome/WoongLab/.local/lib/python3.8/site-packages/sklearn/model_selection/_validation.py:686: DataConversionWarning: A column-vector y was passed when a 1d array was expected. Please change the shape of y to (n_samples,), for example using ravel().\n",
            "  estimator.fit(X_train, y_train, **fit_params)\n",
            "/dshome/WoongLab/.local/lib/python3.8/site-packages/sklearn/model_selection/_validation.py:686: DataConversionWarning: A column-vector y was passed when a 1d array was expected. Please change the shape of y to (n_samples,), for example using ravel().\n",
            "  estimator.fit(X_train, y_train, **fit_params)\n",
            "/dshome/WoongLab/.local/lib/python3.8/site-packages/sklearn/model_selection/_validation.py:686: DataConversionWarning: A column-vector y was passed when a 1d array was expected. Please change the shape of y to (n_samples,), for example using ravel().\n",
            "  estimator.fit(X_train, y_train, **fit_params)\n",
            "/dshome/WoongLab/.local/lib/python3.8/site-packages/sklearn/model_selection/_validation.py:686: DataConversionWarning: A column-vector y was passed when a 1d array was expected. Please change the shape of y to (n_samples,), for example using ravel().\n",
            "  estimator.fit(X_train, y_train, **fit_params)\n",
            "/dshome/WoongLab/.local/lib/python3.8/site-packages/sklearn/model_selection/_validation.py:686: DataConversionWarning: A column-vector y was passed when a 1d array was expected. Please change the shape of y to (n_samples,), for example using ravel().\n",
            "  estimator.fit(X_train, y_train, **fit_params)\n",
            "/dshome/WoongLab/.local/lib/python3.8/site-packages/sklearn/model_selection/_validation.py:686: DataConversionWarning: A column-vector y was passed when a 1d array was expected. Please change the shape of y to (n_samples,), for example using ravel().\n",
            "  estimator.fit(X_train, y_train, **fit_params)\n",
            "/dshome/WoongLab/.local/lib/python3.8/site-packages/sklearn/model_selection/_validation.py:686: DataConversionWarning: A column-vector y was passed when a 1d array was expected. Please change the shape of y to (n_samples,), for example using ravel().\n",
            "  estimator.fit(X_train, y_train, **fit_params)\n",
            "/dshome/WoongLab/.local/lib/python3.8/site-packages/sklearn/model_selection/_validation.py:686: DataConversionWarning: A column-vector y was passed when a 1d array was expected. Please change the shape of y to (n_samples,), for example using ravel().\n",
            "  estimator.fit(X_train, y_train, **fit_params)\n",
            "/dshome/WoongLab/.local/lib/python3.8/site-packages/sklearn/model_selection/_validation.py:686: DataConversionWarning: A column-vector y was passed when a 1d array was expected. Please change the shape of y to (n_samples,), for example using ravel().\n",
            "  estimator.fit(X_train, y_train, **fit_params)\n",
            "/dshome/WoongLab/.local/lib/python3.8/site-packages/sklearn/model_selection/_validation.py:686: DataConversionWarning: A column-vector y was passed when a 1d array was expected. Please change the shape of y to (n_samples,), for example using ravel().\n",
            "  estimator.fit(X_train, y_train, **fit_params)\n",
            "/dshome/WoongLab/.local/lib/python3.8/site-packages/sklearn/model_selection/_validation.py:686: DataConversionWarning: A column-vector y was passed when a 1d array was expected. Please change the shape of y to (n_samples,), for example using ravel().\n",
            "  estimator.fit(X_train, y_train, **fit_params)\n",
            "/dshome/WoongLab/.local/lib/python3.8/site-packages/sklearn/model_selection/_validation.py:686: DataConversionWarning: A column-vector y was passed when a 1d array was expected. Please change the shape of y to (n_samples,), for example using ravel().\n",
            "  estimator.fit(X_train, y_train, **fit_params)\n",
            "/dshome/WoongLab/.local/lib/python3.8/site-packages/sklearn/model_selection/_validation.py:686: DataConversionWarning: A column-vector y was passed when a 1d array was expected. Please change the shape of y to (n_samples,), for example using ravel().\n",
            "  estimator.fit(X_train, y_train, **fit_params)\n",
            "/dshome/WoongLab/.local/lib/python3.8/site-packages/sklearn/model_selection/_validation.py:686: DataConversionWarning: A column-vector y was passed when a 1d array was expected. Please change the shape of y to (n_samples,), for example using ravel().\n",
            "  estimator.fit(X_train, y_train, **fit_params)\n",
            "/dshome/WoongLab/.local/lib/python3.8/site-packages/sklearn/model_selection/_validation.py:686: DataConversionWarning: A column-vector y was passed when a 1d array was expected. Please change the shape of y to (n_samples,), for example using ravel().\n",
            "  estimator.fit(X_train, y_train, **fit_params)\n",
            "/dshome/WoongLab/.local/lib/python3.8/site-packages/sklearn/model_selection/_validation.py:686: DataConversionWarning: A column-vector y was passed when a 1d array was expected. Please change the shape of y to (n_samples,), for example using ravel().\n",
            "  estimator.fit(X_train, y_train, **fit_params)\n",
            "/dshome/WoongLab/.local/lib/python3.8/site-packages/sklearn/model_selection/_validation.py:686: DataConversionWarning: A column-vector y was passed when a 1d array was expected. Please change the shape of y to (n_samples,), for example using ravel().\n",
            "  estimator.fit(X_train, y_train, **fit_params)\n",
            "/dshome/WoongLab/.local/lib/python3.8/site-packages/sklearn/model_selection/_validation.py:686: DataConversionWarning: A column-vector y was passed when a 1d array was expected. Please change the shape of y to (n_samples,), for example using ravel().\n",
            "  estimator.fit(X_train, y_train, **fit_params)\n",
            "/dshome/WoongLab/.local/lib/python3.8/site-packages/sklearn/model_selection/_validation.py:686: DataConversionWarning: A column-vector y was passed when a 1d array was expected. Please change the shape of y to (n_samples,), for example using ravel().\n",
            "  estimator.fit(X_train, y_train, **fit_params)\n",
            "/dshome/WoongLab/.local/lib/python3.8/site-packages/sklearn/model_selection/_validation.py:686: DataConversionWarning: A column-vector y was passed when a 1d array was expected. Please change the shape of y to (n_samples,), for example using ravel().\n",
            "  estimator.fit(X_train, y_train, **fit_params)\n",
            "/dshome/WoongLab/.local/lib/python3.8/site-packages/sklearn/model_selection/_validation.py:686: DataConversionWarning: A column-vector y was passed when a 1d array was expected. Please change the shape of y to (n_samples,), for example using ravel().\n",
            "  estimator.fit(X_train, y_train, **fit_params)\n",
            "/dshome/WoongLab/.local/lib/python3.8/site-packages/sklearn/model_selection/_validation.py:686: DataConversionWarning: A column-vector y was passed when a 1d array was expected. Please change the shape of y to (n_samples,), for example using ravel().\n",
            "  estimator.fit(X_train, y_train, **fit_params)\n",
            "/dshome/WoongLab/.local/lib/python3.8/site-packages/sklearn/model_selection/_validation.py:686: DataConversionWarning: A column-vector y was passed when a 1d array was expected. Please change the shape of y to (n_samples,), for example using ravel().\n",
            "  estimator.fit(X_train, y_train, **fit_params)\n",
            "/dshome/WoongLab/.local/lib/python3.8/site-packages/sklearn/model_selection/_validation.py:686: DataConversionWarning: A column-vector y was passed when a 1d array was expected. Please change the shape of y to (n_samples,), for example using ravel().\n",
            "  estimator.fit(X_train, y_train, **fit_params)\n",
            "/dshome/WoongLab/.local/lib/python3.8/site-packages/sklearn/model_selection/_validation.py:686: DataConversionWarning: A column-vector y was passed when a 1d array was expected. Please change the shape of y to (n_samples,), for example using ravel().\n",
            "  estimator.fit(X_train, y_train, **fit_params)\n",
            "/dshome/WoongLab/.local/lib/python3.8/site-packages/sklearn/model_selection/_validation.py:686: DataConversionWarning: A column-vector y was passed when a 1d array was expected. Please change the shape of y to (n_samples,), for example using ravel().\n",
            "  estimator.fit(X_train, y_train, **fit_params)\n",
            "/dshome/WoongLab/.local/lib/python3.8/site-packages/sklearn/model_selection/_validation.py:686: DataConversionWarning: A column-vector y was passed when a 1d array was expected. Please change the shape of y to (n_samples,), for example using ravel().\n",
            "  estimator.fit(X_train, y_train, **fit_params)\n",
            "/dshome/WoongLab/.local/lib/python3.8/site-packages/sklearn/model_selection/_validation.py:686: DataConversionWarning: A column-vector y was passed when a 1d array was expected. Please change the shape of y to (n_samples,), for example using ravel().\n",
            "  estimator.fit(X_train, y_train, **fit_params)\n",
            "/dshome/WoongLab/.local/lib/python3.8/site-packages/sklearn/model_selection/_validation.py:686: DataConversionWarning: A column-vector y was passed when a 1d array was expected. Please change the shape of y to (n_samples,), for example using ravel().\n",
            "  estimator.fit(X_train, y_train, **fit_params)\n",
            "/dshome/WoongLab/.local/lib/python3.8/site-packages/sklearn/model_selection/_validation.py:686: DataConversionWarning: A column-vector y was passed when a 1d array was expected. Please change the shape of y to (n_samples,), for example using ravel().\n",
            "  estimator.fit(X_train, y_train, **fit_params)\n",
            "/dshome/WoongLab/.local/lib/python3.8/site-packages/sklearn/model_selection/_validation.py:686: DataConversionWarning: A column-vector y was passed when a 1d array was expected. Please change the shape of y to (n_samples,), for example using ravel().\n",
            "  estimator.fit(X_train, y_train, **fit_params)\n",
            "/dshome/WoongLab/.local/lib/python3.8/site-packages/sklearn/model_selection/_validation.py:686: DataConversionWarning: A column-vector y was passed when a 1d array was expected. Please change the shape of y to (n_samples,), for example using ravel().\n",
            "  estimator.fit(X_train, y_train, **fit_params)\n",
            "/dshome/WoongLab/.local/lib/python3.8/site-packages/sklearn/model_selection/_validation.py:686: DataConversionWarning: A column-vector y was passed when a 1d array was expected. Please change the shape of y to (n_samples,), for example using ravel().\n",
            "  estimator.fit(X_train, y_train, **fit_params)\n",
            "/dshome/WoongLab/.local/lib/python3.8/site-packages/sklearn/model_selection/_validation.py:686: DataConversionWarning: A column-vector y was passed when a 1d array was expected. Please change the shape of y to (n_samples,), for example using ravel().\n",
            "  estimator.fit(X_train, y_train, **fit_params)\n",
            "/dshome/WoongLab/.local/lib/python3.8/site-packages/sklearn/model_selection/_validation.py:686: DataConversionWarning: A column-vector y was passed when a 1d array was expected. Please change the shape of y to (n_samples,), for example using ravel().\n",
            "  estimator.fit(X_train, y_train, **fit_params)\n",
            "/dshome/WoongLab/.local/lib/python3.8/site-packages/sklearn/model_selection/_validation.py:686: DataConversionWarning: A column-vector y was passed when a 1d array was expected. Please change the shape of y to (n_samples,), for example using ravel().\n",
            "  estimator.fit(X_train, y_train, **fit_params)\n",
            "/dshome/WoongLab/.local/lib/python3.8/site-packages/sklearn/model_selection/_validation.py:686: DataConversionWarning: A column-vector y was passed when a 1d array was expected. Please change the shape of y to (n_samples,), for example using ravel().\n",
            "  estimator.fit(X_train, y_train, **fit_params)\n",
            "/dshome/WoongLab/.local/lib/python3.8/site-packages/sklearn/model_selection/_validation.py:686: DataConversionWarning: A column-vector y was passed when a 1d array was expected. Please change the shape of y to (n_samples,), for example using ravel().\n",
            "  estimator.fit(X_train, y_train, **fit_params)\n",
            "/dshome/WoongLab/.local/lib/python3.8/site-packages/sklearn/model_selection/_validation.py:686: DataConversionWarning: A column-vector y was passed when a 1d array was expected. Please change the shape of y to (n_samples,), for example using ravel().\n",
            "  estimator.fit(X_train, y_train, **fit_params)\n",
            "/dshome/WoongLab/.local/lib/python3.8/site-packages/sklearn/model_selection/_validation.py:686: DataConversionWarning: A column-vector y was passed when a 1d array was expected. Please change the shape of y to (n_samples,), for example using ravel().\n",
            "  estimator.fit(X_train, y_train, **fit_params)\n",
            "/dshome/WoongLab/.local/lib/python3.8/site-packages/sklearn/model_selection/_validation.py:686: DataConversionWarning: A column-vector y was passed when a 1d array was expected. Please change the shape of y to (n_samples,), for example using ravel().\n",
            "  estimator.fit(X_train, y_train, **fit_params)\n",
            "/dshome/WoongLab/.local/lib/python3.8/site-packages/sklearn/model_selection/_validation.py:686: DataConversionWarning: A column-vector y was passed when a 1d array was expected. Please change the shape of y to (n_samples,), for example using ravel().\n",
            "  estimator.fit(X_train, y_train, **fit_params)\n",
            "/dshome/WoongLab/.local/lib/python3.8/site-packages/sklearn/model_selection/_validation.py:686: DataConversionWarning: A column-vector y was passed when a 1d array was expected. Please change the shape of y to (n_samples,), for example using ravel().\n",
            "  estimator.fit(X_train, y_train, **fit_params)\n",
            "/dshome/WoongLab/.local/lib/python3.8/site-packages/sklearn/model_selection/_validation.py:686: DataConversionWarning: A column-vector y was passed when a 1d array was expected. Please change the shape of y to (n_samples,), for example using ravel().\n",
            "  estimator.fit(X_train, y_train, **fit_params)\n",
            "/dshome/WoongLab/.local/lib/python3.8/site-packages/sklearn/model_selection/_validation.py:686: DataConversionWarning: A column-vector y was passed when a 1d array was expected. Please change the shape of y to (n_samples,), for example using ravel().\n",
            "  estimator.fit(X_train, y_train, **fit_params)\n"
          ]
        },
        {
          "data": {
            "text/html": [
              "<style>#sk-container-id-6 {color: black;background-color: white;}#sk-container-id-6 pre{padding: 0;}#sk-container-id-6 div.sk-toggleable {background-color: white;}#sk-container-id-6 label.sk-toggleable__label {cursor: pointer;display: block;width: 100%;margin-bottom: 0;padding: 0.3em;box-sizing: border-box;text-align: center;}#sk-container-id-6 label.sk-toggleable__label-arrow:before {content: \"▸\";float: left;margin-right: 0.25em;color: #696969;}#sk-container-id-6 label.sk-toggleable__label-arrow:hover:before {color: black;}#sk-container-id-6 div.sk-estimator:hover label.sk-toggleable__label-arrow:before {color: black;}#sk-container-id-6 div.sk-toggleable__content {max-height: 0;max-width: 0;overflow: hidden;text-align: left;background-color: #f0f8ff;}#sk-container-id-6 div.sk-toggleable__content pre {margin: 0.2em;color: black;border-radius: 0.25em;background-color: #f0f8ff;}#sk-container-id-6 input.sk-toggleable__control:checked~div.sk-toggleable__content {max-height: 200px;max-width: 100%;overflow: auto;}#sk-container-id-6 input.sk-toggleable__control:checked~label.sk-toggleable__label-arrow:before {content: \"▾\";}#sk-container-id-6 div.sk-estimator input.sk-toggleable__control:checked~label.sk-toggleable__label {background-color: #d4ebff;}#sk-container-id-6 div.sk-label input.sk-toggleable__control:checked~label.sk-toggleable__label {background-color: #d4ebff;}#sk-container-id-6 input.sk-hidden--visually {border: 0;clip: rect(1px 1px 1px 1px);clip: rect(1px, 1px, 1px, 1px);height: 1px;margin: -1px;overflow: hidden;padding: 0;position: absolute;width: 1px;}#sk-container-id-6 div.sk-estimator {font-family: monospace;background-color: #f0f8ff;border: 1px dotted black;border-radius: 0.25em;box-sizing: border-box;margin-bottom: 0.5em;}#sk-container-id-6 div.sk-estimator:hover {background-color: #d4ebff;}#sk-container-id-6 div.sk-parallel-item::after {content: \"\";width: 100%;border-bottom: 1px solid gray;flex-grow: 1;}#sk-container-id-6 div.sk-label:hover label.sk-toggleable__label {background-color: #d4ebff;}#sk-container-id-6 div.sk-serial::before {content: \"\";position: absolute;border-left: 1px solid gray;box-sizing: border-box;top: 0;bottom: 0;left: 50%;z-index: 0;}#sk-container-id-6 div.sk-serial {display: flex;flex-direction: column;align-items: center;background-color: white;padding-right: 0.2em;padding-left: 0.2em;position: relative;}#sk-container-id-6 div.sk-item {position: relative;z-index: 1;}#sk-container-id-6 div.sk-parallel {display: flex;align-items: stretch;justify-content: center;background-color: white;position: relative;}#sk-container-id-6 div.sk-item::before, #sk-container-id-6 div.sk-parallel-item::before {content: \"\";position: absolute;border-left: 1px solid gray;box-sizing: border-box;top: 0;bottom: 0;left: 50%;z-index: -1;}#sk-container-id-6 div.sk-parallel-item {display: flex;flex-direction: column;z-index: 1;position: relative;background-color: white;}#sk-container-id-6 div.sk-parallel-item:first-child::after {align-self: flex-end;width: 50%;}#sk-container-id-6 div.sk-parallel-item:last-child::after {align-self: flex-start;width: 50%;}#sk-container-id-6 div.sk-parallel-item:only-child::after {width: 0;}#sk-container-id-6 div.sk-dashed-wrapped {border: 1px dashed gray;margin: 0 0.4em 0.5em 0.4em;box-sizing: border-box;padding-bottom: 0.4em;background-color: white;}#sk-container-id-6 div.sk-label label {font-family: monospace;font-weight: bold;display: inline-block;line-height: 1.2em;}#sk-container-id-6 div.sk-label-container {text-align: center;}#sk-container-id-6 div.sk-container {/* jupyter's `normalize.less` sets `[hidden] { display: none; }` but bootstrap.min.css set `[hidden] { display: none !important; }` so we also need the `!important` here to be able to override the default hidden behavior on the sphinx rendered scikit-learn.org. See: https://github.com/scikit-learn/scikit-learn/issues/21755 */display: inline-block !important;position: relative;}#sk-container-id-6 div.sk-text-repr-fallback {display: none;}</style><div id=\"sk-container-id-6\" class=\"sk-top-container\"><div class=\"sk-text-repr-fallback\"><pre>GridSearchCV(cv=5, estimator=RandomForestClassifier(random_state=42), n_jobs=-1,\n",
              "             param_grid={&#x27;max_depth&#x27;: [5, 7, 9], &#x27;min_samples_split&#x27;: [2, 4, 8],\n",
              "                         &#x27;n_estimators&#x27;: [100, 200]},\n",
              "             scoring=&#x27;roc_auc&#x27;)</pre><b>In a Jupyter environment, please rerun this cell to show the HTML representation or trust the notebook. <br />On GitHub, the HTML representation is unable to render, please try loading this page with nbviewer.org.</b></div><div class=\"sk-container\" hidden><div class=\"sk-item sk-dashed-wrapped\"><div class=\"sk-label-container\"><div class=\"sk-label sk-toggleable\"><input class=\"sk-toggleable__control sk-hidden--visually\" id=\"sk-estimator-id-14\" type=\"checkbox\" ><label for=\"sk-estimator-id-14\" class=\"sk-toggleable__label sk-toggleable__label-arrow\">GridSearchCV</label><div class=\"sk-toggleable__content\"><pre>GridSearchCV(cv=5, estimator=RandomForestClassifier(random_state=42), n_jobs=-1,\n",
              "             param_grid={&#x27;max_depth&#x27;: [5, 7, 9], &#x27;min_samples_split&#x27;: [2, 4, 8],\n",
              "                         &#x27;n_estimators&#x27;: [100, 200]},\n",
              "             scoring=&#x27;roc_auc&#x27;)</pre></div></div></div><div class=\"sk-parallel\"><div class=\"sk-parallel-item\"><div class=\"sk-item\"><div class=\"sk-label-container\"><div class=\"sk-label sk-toggleable\"><input class=\"sk-toggleable__control sk-hidden--visually\" id=\"sk-estimator-id-15\" type=\"checkbox\" ><label for=\"sk-estimator-id-15\" class=\"sk-toggleable__label sk-toggleable__label-arrow\">estimator: RandomForestClassifier</label><div class=\"sk-toggleable__content\"><pre>RandomForestClassifier(random_state=42)</pre></div></div></div><div class=\"sk-serial\"><div class=\"sk-item\"><div class=\"sk-estimator sk-toggleable\"><input class=\"sk-toggleable__control sk-hidden--visually\" id=\"sk-estimator-id-16\" type=\"checkbox\" ><label for=\"sk-estimator-id-16\" class=\"sk-toggleable__label sk-toggleable__label-arrow\">RandomForestClassifier</label><div class=\"sk-toggleable__content\"><pre>RandomForestClassifier(random_state=42)</pre></div></div></div></div></div></div></div></div></div></div>"
            ],
            "text/plain": [
              "GridSearchCV(cv=5, estimator=RandomForestClassifier(random_state=42), n_jobs=-1,\n",
              "             param_grid={'max_depth': [5, 7, 9], 'min_samples_split': [2, 4, 8],\n",
              "                         'n_estimators': [100, 200]},\n",
              "             scoring='roc_auc')"
            ]
          },
          "execution_count": 51,
          "metadata": {},
          "output_type": "execute_result"
        }
      ],
      "source": [
        "# RandomForestClassifier 객체 생성 후 GridSearchCV 수행 \n",
        "\n",
        "rf_clf=RandomForestClassifier(random_state=42)\n",
        "grid_rf=GridSearchCV(rf_clf,param_grid=params,cv=5,n_jobs=-1,scoring='roc_auc')\n",
        "grid_rf.fit(X_train,y_train)"
      ]
    },
    {
      "cell_type": "code",
      "execution_count": 52,
      "metadata": {
        "colab": {
          "base_uri": "https://localhost:8080/",
          "height": 332
        },
        "id": "2M3xst0Vy-EW",
        "outputId": "34b9d37d-7a9c-4543-dc35-e297c3b7f5d3"
      },
      "outputs": [
        {
          "data": {
            "text/html": [
              "<div>\n",
              "<style scoped>\n",
              "    .dataframe tbody tr th:only-of-type {\n",
              "        vertical-align: middle;\n",
              "    }\n",
              "\n",
              "    .dataframe tbody tr th {\n",
              "        vertical-align: top;\n",
              "    }\n",
              "\n",
              "    .dataframe thead th {\n",
              "        text-align: right;\n",
              "    }\n",
              "</style>\n",
              "<table border=\"1\" class=\"dataframe\">\n",
              "  <thead>\n",
              "    <tr style=\"text-align: right;\">\n",
              "      <th></th>\n",
              "      <th>params</th>\n",
              "      <th>mean_test_score</th>\n",
              "      <th>rank_test_score</th>\n",
              "      <th>split0_test_score</th>\n",
              "      <th>split1_test_score</th>\n",
              "      <th>split2_test_score</th>\n",
              "    </tr>\n",
              "  </thead>\n",
              "  <tbody>\n",
              "    <tr>\n",
              "      <th>0</th>\n",
              "      <td>{'max_depth': 5, 'min_samples_split': 2, 'n_es...</td>\n",
              "      <td>0.794402</td>\n",
              "      <td>14</td>\n",
              "      <td>0.794292</td>\n",
              "      <td>0.793511</td>\n",
              "      <td>0.793159</td>\n",
              "    </tr>\n",
              "    <tr>\n",
              "      <th>1</th>\n",
              "      <td>{'max_depth': 5, 'min_samples_split': 2, 'n_es...</td>\n",
              "      <td>0.794248</td>\n",
              "      <td>17</td>\n",
              "      <td>0.794559</td>\n",
              "      <td>0.793392</td>\n",
              "      <td>0.792615</td>\n",
              "    </tr>\n",
              "    <tr>\n",
              "      <th>2</th>\n",
              "      <td>{'max_depth': 5, 'min_samples_split': 4, 'n_es...</td>\n",
              "      <td>0.794404</td>\n",
              "      <td>13</td>\n",
              "      <td>0.794293</td>\n",
              "      <td>0.793511</td>\n",
              "      <td>0.793163</td>\n",
              "    </tr>\n",
              "    <tr>\n",
              "      <th>3</th>\n",
              "      <td>{'max_depth': 5, 'min_samples_split': 4, 'n_es...</td>\n",
              "      <td>0.794259</td>\n",
              "      <td>16</td>\n",
              "      <td>0.794529</td>\n",
              "      <td>0.793380</td>\n",
              "      <td>0.792564</td>\n",
              "    </tr>\n",
              "    <tr>\n",
              "      <th>4</th>\n",
              "      <td>{'max_depth': 5, 'min_samples_split': 8, 'n_es...</td>\n",
              "      <td>0.794387</td>\n",
              "      <td>15</td>\n",
              "      <td>0.794297</td>\n",
              "      <td>0.793483</td>\n",
              "      <td>0.793163</td>\n",
              "    </tr>\n",
              "    <tr>\n",
              "      <th>5</th>\n",
              "      <td>{'max_depth': 5, 'min_samples_split': 8, 'n_es...</td>\n",
              "      <td>0.794244</td>\n",
              "      <td>18</td>\n",
              "      <td>0.794490</td>\n",
              "      <td>0.793371</td>\n",
              "      <td>0.792510</td>\n",
              "    </tr>\n",
              "    <tr>\n",
              "      <th>6</th>\n",
              "      <td>{'max_depth': 7, 'min_samples_split': 2, 'n_es...</td>\n",
              "      <td>0.798781</td>\n",
              "      <td>9</td>\n",
              "      <td>0.799301</td>\n",
              "      <td>0.798156</td>\n",
              "      <td>0.797162</td>\n",
              "    </tr>\n",
              "    <tr>\n",
              "      <th>7</th>\n",
              "      <td>{'max_depth': 7, 'min_samples_split': 2, 'n_es...</td>\n",
              "      <td>0.798737</td>\n",
              "      <td>11</td>\n",
              "      <td>0.799270</td>\n",
              "      <td>0.798014</td>\n",
              "      <td>0.797030</td>\n",
              "    </tr>\n",
              "    <tr>\n",
              "      <th>8</th>\n",
              "      <td>{'max_depth': 7, 'min_samples_split': 4, 'n_es...</td>\n",
              "      <td>0.798814</td>\n",
              "      <td>7</td>\n",
              "      <td>0.799287</td>\n",
              "      <td>0.798196</td>\n",
              "      <td>0.796854</td>\n",
              "    </tr>\n",
              "    <tr>\n",
              "      <th>9</th>\n",
              "      <td>{'max_depth': 7, 'min_samples_split': 4, 'n_es...</td>\n",
              "      <td>0.798775</td>\n",
              "      <td>10</td>\n",
              "      <td>0.799218</td>\n",
              "      <td>0.798027</td>\n",
              "      <td>0.796991</td>\n",
              "    </tr>\n",
              "    <tr>\n",
              "      <th>10</th>\n",
              "      <td>{'max_depth': 7, 'min_samples_split': 8, 'n_es...</td>\n",
              "      <td>0.798787</td>\n",
              "      <td>8</td>\n",
              "      <td>0.799363</td>\n",
              "      <td>0.798045</td>\n",
              "      <td>0.796839</td>\n",
              "    </tr>\n",
              "    <tr>\n",
              "      <th>11</th>\n",
              "      <td>{'max_depth': 7, 'min_samples_split': 8, 'n_es...</td>\n",
              "      <td>0.798682</td>\n",
              "      <td>12</td>\n",
              "      <td>0.799198</td>\n",
              "      <td>0.797862</td>\n",
              "      <td>0.796816</td>\n",
              "    </tr>\n",
              "    <tr>\n",
              "      <th>12</th>\n",
              "      <td>{'max_depth': 9, 'min_samples_split': 2, 'n_es...</td>\n",
              "      <td>0.800623</td>\n",
              "      <td>5</td>\n",
              "      <td>0.801437</td>\n",
              "      <td>0.799598</td>\n",
              "      <td>0.798677</td>\n",
              "    </tr>\n",
              "    <tr>\n",
              "      <th>13</th>\n",
              "      <td>{'max_depth': 9, 'min_samples_split': 2, 'n_es...</td>\n",
              "      <td>0.800594</td>\n",
              "      <td>6</td>\n",
              "      <td>0.801195</td>\n",
              "      <td>0.799534</td>\n",
              "      <td>0.798724</td>\n",
              "    </tr>\n",
              "    <tr>\n",
              "      <th>14</th>\n",
              "      <td>{'max_depth': 9, 'min_samples_split': 4, 'n_es...</td>\n",
              "      <td>0.800763</td>\n",
              "      <td>3</td>\n",
              "      <td>0.801403</td>\n",
              "      <td>0.800109</td>\n",
              "      <td>0.798890</td>\n",
              "    </tr>\n",
              "    <tr>\n",
              "      <th>15</th>\n",
              "      <td>{'max_depth': 9, 'min_samples_split': 4, 'n_es...</td>\n",
              "      <td>0.800680</td>\n",
              "      <td>4</td>\n",
              "      <td>0.801325</td>\n",
              "      <td>0.799831</td>\n",
              "      <td>0.798859</td>\n",
              "    </tr>\n",
              "    <tr>\n",
              "      <th>16</th>\n",
              "      <td>{'max_depth': 9, 'min_samples_split': 8, 'n_es...</td>\n",
              "      <td>0.800828</td>\n",
              "      <td>2</td>\n",
              "      <td>0.801366</td>\n",
              "      <td>0.799988</td>\n",
              "      <td>0.798967</td>\n",
              "    </tr>\n",
              "    <tr>\n",
              "      <th>17</th>\n",
              "      <td>{'max_depth': 9, 'min_samples_split': 8, 'n_es...</td>\n",
              "      <td>0.800850</td>\n",
              "      <td>1</td>\n",
              "      <td>0.801389</td>\n",
              "      <td>0.799946</td>\n",
              "      <td>0.799087</td>\n",
              "    </tr>\n",
              "  </tbody>\n",
              "</table>\n",
              "</div>"
            ],
            "text/plain": [
              "                                               params  mean_test_score  \\\n",
              "0   {'max_depth': 5, 'min_samples_split': 2, 'n_es...         0.794402   \n",
              "1   {'max_depth': 5, 'min_samples_split': 2, 'n_es...         0.794248   \n",
              "2   {'max_depth': 5, 'min_samples_split': 4, 'n_es...         0.794404   \n",
              "3   {'max_depth': 5, 'min_samples_split': 4, 'n_es...         0.794259   \n",
              "4   {'max_depth': 5, 'min_samples_split': 8, 'n_es...         0.794387   \n",
              "5   {'max_depth': 5, 'min_samples_split': 8, 'n_es...         0.794244   \n",
              "6   {'max_depth': 7, 'min_samples_split': 2, 'n_es...         0.798781   \n",
              "7   {'max_depth': 7, 'min_samples_split': 2, 'n_es...         0.798737   \n",
              "8   {'max_depth': 7, 'min_samples_split': 4, 'n_es...         0.798814   \n",
              "9   {'max_depth': 7, 'min_samples_split': 4, 'n_es...         0.798775   \n",
              "10  {'max_depth': 7, 'min_samples_split': 8, 'n_es...         0.798787   \n",
              "11  {'max_depth': 7, 'min_samples_split': 8, 'n_es...         0.798682   \n",
              "12  {'max_depth': 9, 'min_samples_split': 2, 'n_es...         0.800623   \n",
              "13  {'max_depth': 9, 'min_samples_split': 2, 'n_es...         0.800594   \n",
              "14  {'max_depth': 9, 'min_samples_split': 4, 'n_es...         0.800763   \n",
              "15  {'max_depth': 9, 'min_samples_split': 4, 'n_es...         0.800680   \n",
              "16  {'max_depth': 9, 'min_samples_split': 8, 'n_es...         0.800828   \n",
              "17  {'max_depth': 9, 'min_samples_split': 8, 'n_es...         0.800850   \n",
              "\n",
              "    rank_test_score  split0_test_score  split1_test_score  split2_test_score  \n",
              "0                14           0.794292           0.793511           0.793159  \n",
              "1                17           0.794559           0.793392           0.792615  \n",
              "2                13           0.794293           0.793511           0.793163  \n",
              "3                16           0.794529           0.793380           0.792564  \n",
              "4                15           0.794297           0.793483           0.793163  \n",
              "5                18           0.794490           0.793371           0.792510  \n",
              "6                 9           0.799301           0.798156           0.797162  \n",
              "7                11           0.799270           0.798014           0.797030  \n",
              "8                 7           0.799287           0.798196           0.796854  \n",
              "9                10           0.799218           0.798027           0.796991  \n",
              "10                8           0.799363           0.798045           0.796839  \n",
              "11               12           0.799198           0.797862           0.796816  \n",
              "12                5           0.801437           0.799598           0.798677  \n",
              "13                6           0.801195           0.799534           0.798724  \n",
              "14                3           0.801403           0.800109           0.798890  \n",
              "15                4           0.801325           0.799831           0.798859  \n",
              "16                2           0.801366           0.799988           0.798967  \n",
              "17                1           0.801389           0.799946           0.799087  "
            ]
          },
          "execution_count": 52,
          "metadata": {},
          "output_type": "execute_result"
        }
      ],
      "source": [
        "scores_df=pd.DataFrame(grid_rf.cv_results_)\n",
        "scores_df[['params','mean_test_score','rank_test_score',\n",
        "           'split0_test_score','split1_test_score','split2_test_score']]"
      ]
    },
    {
      "cell_type": "code",
      "execution_count": 53,
      "metadata": {
        "colab": {
          "base_uri": "https://localhost:8080/"
        },
        "id": "Lh-FqHXNTwuS",
        "outputId": "c716fe3a-c288-4445-c3e5-5b101baea054"
      },
      "outputs": [
        {
          "name": "stdout",
          "output_type": "stream",
          "text": [
            "GridSearchCV 최적 하이퍼 파라미터:  {'max_depth': 9, 'min_samples_split': 8, 'n_estimators': 200}\n",
            "GridSearchCV  최고 예측 정확도: 0.8009\n"
          ]
        }
      ],
      "source": [
        "print('GridSearchCV 최적 하이퍼 파라미터: ',grid_rf.best_params_)\n",
        "print('GridSearchCV  최고 예측 정확도: {0:.4f}'.format(grid_rf.best_score_))"
      ]
    },
    {
      "cell_type": "code",
      "execution_count": 54,
      "metadata": {
        "id": "gxlq__Ou59aL"
      },
      "outputs": [],
      "source": [
        "# GridSearchCV의 refit으로 이미 학습된 estimator 반환 \n",
        "\n",
        "best_rf=grid_rf.best_estimator_\n"
      ]
    },
    {
      "cell_type": "code",
      "execution_count": 55,
      "metadata": {
        "colab": {
          "base_uri": "https://localhost:8080/"
        },
        "id": "F1PvPlVXzKTs",
        "outputId": "db84f869-2ec2-4b48-e574-96eefbdd4b3c"
      },
      "outputs": [
        {
          "name": "stdout",
          "output_type": "stream",
          "text": [
            "Test accuracy:  0.7937060983397191\n",
            "Test set precision:  0.7948002249163643\n",
            "Test set recall:  0.9951225688816856\n",
            "Test set F1 score:  0.883751683935202\n",
            "Test set AUC Score:  0.7988611837411181\n"
          ]
        }
      ],
      "source": [
        "# GridSearchCV의 best_estimator_는 이미 최적 학습이 됐으므로 별도 학습이 필요 없음\n",
        "\n",
        "pred_rf=grid_rf.predict(X_test)\n",
        "prob_rf=best_rf.predict_proba(X_test)[:,1]\n",
        "\n",
        "print('Test accuracy: ', accuracy_score(y_test, pred_rf))\n",
        "print('Test set precision: ',precision_score(y_test,pred_rf))\n",
        "print('Test set recall: ', recall_score(y_test,pred_rf))\n",
        "print('Test set F1 score: ', f1_score(y_test, pred_rf))\n",
        "print('Test set AUC Score: ', roc_auc_score(y_test,prob_rf))"
      ]
    },
    {
      "cell_type": "code",
      "execution_count": null,
      "metadata": {
        "id": "2ZVuISxA04g2"
      },
      "outputs": [],
      "source": []
    },
    {
      "cell_type": "markdown",
      "metadata": {
        "id": "hHf1dw6va947"
      },
      "source": [
        "## XGBoost 모형 만들기"
      ]
    },
    {
      "cell_type": "code",
      "execution_count": 56,
      "metadata": {
        "id": "bAtsUPyUbdU2"
      },
      "outputs": [],
      "source": [
        "\n",
        "xgb_model=XGBClassifier(random_state=42)\n",
        "\n",
        "# 후보 파라미터 선정 \n",
        "\n",
        "params={'n_estimators':[100, 200],'max_depth':[5,7,9,11]}"
      ]
    },
    {
      "cell_type": "code",
      "execution_count": 57,
      "metadata": {
        "colab": {
          "base_uri": "https://localhost:8080/"
        },
        "id": "U678EcW7lW7H",
        "outputId": "d6df807f-5b22-4386-ae33-52e0bbfa1328"
      },
      "outputs": [
        {
          "data": {
            "text/html": [
              "<style>#sk-container-id-7 {color: black;background-color: white;}#sk-container-id-7 pre{padding: 0;}#sk-container-id-7 div.sk-toggleable {background-color: white;}#sk-container-id-7 label.sk-toggleable__label {cursor: pointer;display: block;width: 100%;margin-bottom: 0;padding: 0.3em;box-sizing: border-box;text-align: center;}#sk-container-id-7 label.sk-toggleable__label-arrow:before {content: \"▸\";float: left;margin-right: 0.25em;color: #696969;}#sk-container-id-7 label.sk-toggleable__label-arrow:hover:before {color: black;}#sk-container-id-7 div.sk-estimator:hover label.sk-toggleable__label-arrow:before {color: black;}#sk-container-id-7 div.sk-toggleable__content {max-height: 0;max-width: 0;overflow: hidden;text-align: left;background-color: #f0f8ff;}#sk-container-id-7 div.sk-toggleable__content pre {margin: 0.2em;color: black;border-radius: 0.25em;background-color: #f0f8ff;}#sk-container-id-7 input.sk-toggleable__control:checked~div.sk-toggleable__content {max-height: 200px;max-width: 100%;overflow: auto;}#sk-container-id-7 input.sk-toggleable__control:checked~label.sk-toggleable__label-arrow:before {content: \"▾\";}#sk-container-id-7 div.sk-estimator input.sk-toggleable__control:checked~label.sk-toggleable__label {background-color: #d4ebff;}#sk-container-id-7 div.sk-label input.sk-toggleable__control:checked~label.sk-toggleable__label {background-color: #d4ebff;}#sk-container-id-7 input.sk-hidden--visually {border: 0;clip: rect(1px 1px 1px 1px);clip: rect(1px, 1px, 1px, 1px);height: 1px;margin: -1px;overflow: hidden;padding: 0;position: absolute;width: 1px;}#sk-container-id-7 div.sk-estimator {font-family: monospace;background-color: #f0f8ff;border: 1px dotted black;border-radius: 0.25em;box-sizing: border-box;margin-bottom: 0.5em;}#sk-container-id-7 div.sk-estimator:hover {background-color: #d4ebff;}#sk-container-id-7 div.sk-parallel-item::after {content: \"\";width: 100%;border-bottom: 1px solid gray;flex-grow: 1;}#sk-container-id-7 div.sk-label:hover label.sk-toggleable__label {background-color: #d4ebff;}#sk-container-id-7 div.sk-serial::before {content: \"\";position: absolute;border-left: 1px solid gray;box-sizing: border-box;top: 0;bottom: 0;left: 50%;z-index: 0;}#sk-container-id-7 div.sk-serial {display: flex;flex-direction: column;align-items: center;background-color: white;padding-right: 0.2em;padding-left: 0.2em;position: relative;}#sk-container-id-7 div.sk-item {position: relative;z-index: 1;}#sk-container-id-7 div.sk-parallel {display: flex;align-items: stretch;justify-content: center;background-color: white;position: relative;}#sk-container-id-7 div.sk-item::before, #sk-container-id-7 div.sk-parallel-item::before {content: \"\";position: absolute;border-left: 1px solid gray;box-sizing: border-box;top: 0;bottom: 0;left: 50%;z-index: -1;}#sk-container-id-7 div.sk-parallel-item {display: flex;flex-direction: column;z-index: 1;position: relative;background-color: white;}#sk-container-id-7 div.sk-parallel-item:first-child::after {align-self: flex-end;width: 50%;}#sk-container-id-7 div.sk-parallel-item:last-child::after {align-self: flex-start;width: 50%;}#sk-container-id-7 div.sk-parallel-item:only-child::after {width: 0;}#sk-container-id-7 div.sk-dashed-wrapped {border: 1px dashed gray;margin: 0 0.4em 0.5em 0.4em;box-sizing: border-box;padding-bottom: 0.4em;background-color: white;}#sk-container-id-7 div.sk-label label {font-family: monospace;font-weight: bold;display: inline-block;line-height: 1.2em;}#sk-container-id-7 div.sk-label-container {text-align: center;}#sk-container-id-7 div.sk-container {/* jupyter's `normalize.less` sets `[hidden] { display: none; }` but bootstrap.min.css set `[hidden] { display: none !important; }` so we also need the `!important` here to be able to override the default hidden behavior on the sphinx rendered scikit-learn.org. See: https://github.com/scikit-learn/scikit-learn/issues/21755 */display: inline-block !important;position: relative;}#sk-container-id-7 div.sk-text-repr-fallback {display: none;}</style><div id=\"sk-container-id-7\" class=\"sk-top-container\"><div class=\"sk-text-repr-fallback\"><pre>GridSearchCV(cv=5,\n",
              "             estimator=XGBClassifier(base_score=None, booster=None,\n",
              "                                     callbacks=None, colsample_bylevel=None,\n",
              "                                     colsample_bynode=None,\n",
              "                                     colsample_bytree=None,\n",
              "                                     early_stopping_rounds=None,\n",
              "                                     enable_categorical=False, eval_metric=None,\n",
              "                                     feature_types=None, gamma=None,\n",
              "                                     gpu_id=None, grow_policy=None,\n",
              "                                     importance_type=None,\n",
              "                                     interaction_constraints=None,\n",
              "                                     learning_rate=None, max_bin=None,\n",
              "                                     max_cat_threshold=None,\n",
              "                                     max_cat_to_onehot=None,\n",
              "                                     max_delta_step=None, max_depth=None,\n",
              "                                     max_leaves=None, min_child_weight=None,\n",
              "                                     missing=nan, monotone_constraints=None,\n",
              "                                     n_estimators=100, n_jobs=None,\n",
              "                                     num_parallel_tree=None, predictor=None,\n",
              "                                     random_state=42, ...),\n",
              "             param_grid={&#x27;max_depth&#x27;: [5, 7, 9, 11],\n",
              "                         &#x27;n_estimators&#x27;: [100, 200]},\n",
              "             scoring=&#x27;roc_auc&#x27;)</pre><b>In a Jupyter environment, please rerun this cell to show the HTML representation or trust the notebook. <br />On GitHub, the HTML representation is unable to render, please try loading this page with nbviewer.org.</b></div><div class=\"sk-container\" hidden><div class=\"sk-item sk-dashed-wrapped\"><div class=\"sk-label-container\"><div class=\"sk-label sk-toggleable\"><input class=\"sk-toggleable__control sk-hidden--visually\" id=\"sk-estimator-id-17\" type=\"checkbox\" ><label for=\"sk-estimator-id-17\" class=\"sk-toggleable__label sk-toggleable__label-arrow\">GridSearchCV</label><div class=\"sk-toggleable__content\"><pre>GridSearchCV(cv=5,\n",
              "             estimator=XGBClassifier(base_score=None, booster=None,\n",
              "                                     callbacks=None, colsample_bylevel=None,\n",
              "                                     colsample_bynode=None,\n",
              "                                     colsample_bytree=None,\n",
              "                                     early_stopping_rounds=None,\n",
              "                                     enable_categorical=False, eval_metric=None,\n",
              "                                     feature_types=None, gamma=None,\n",
              "                                     gpu_id=None, grow_policy=None,\n",
              "                                     importance_type=None,\n",
              "                                     interaction_constraints=None,\n",
              "                                     learning_rate=None, max_bin=None,\n",
              "                                     max_cat_threshold=None,\n",
              "                                     max_cat_to_onehot=None,\n",
              "                                     max_delta_step=None, max_depth=None,\n",
              "                                     max_leaves=None, min_child_weight=None,\n",
              "                                     missing=nan, monotone_constraints=None,\n",
              "                                     n_estimators=100, n_jobs=None,\n",
              "                                     num_parallel_tree=None, predictor=None,\n",
              "                                     random_state=42, ...),\n",
              "             param_grid={&#x27;max_depth&#x27;: [5, 7, 9, 11],\n",
              "                         &#x27;n_estimators&#x27;: [100, 200]},\n",
              "             scoring=&#x27;roc_auc&#x27;)</pre></div></div></div><div class=\"sk-parallel\"><div class=\"sk-parallel-item\"><div class=\"sk-item\"><div class=\"sk-label-container\"><div class=\"sk-label sk-toggleable\"><input class=\"sk-toggleable__control sk-hidden--visually\" id=\"sk-estimator-id-18\" type=\"checkbox\" ><label for=\"sk-estimator-id-18\" class=\"sk-toggleable__label sk-toggleable__label-arrow\">estimator: XGBClassifier</label><div class=\"sk-toggleable__content\"><pre>XGBClassifier(base_score=None, booster=None, callbacks=None,\n",
              "              colsample_bylevel=None, colsample_bynode=None,\n",
              "              colsample_bytree=None, early_stopping_rounds=None,\n",
              "              enable_categorical=False, eval_metric=None, feature_types=None,\n",
              "              gamma=None, gpu_id=None, grow_policy=None, importance_type=None,\n",
              "              interaction_constraints=None, learning_rate=None, max_bin=None,\n",
              "              max_cat_threshold=None, max_cat_to_onehot=None,\n",
              "              max_delta_step=None, max_depth=None, max_leaves=None,\n",
              "              min_child_weight=None, missing=nan, monotone_constraints=None,\n",
              "              n_estimators=100, n_jobs=None, num_parallel_tree=None,\n",
              "              predictor=None, random_state=42, ...)</pre></div></div></div><div class=\"sk-serial\"><div class=\"sk-item\"><div class=\"sk-estimator sk-toggleable\"><input class=\"sk-toggleable__control sk-hidden--visually\" id=\"sk-estimator-id-19\" type=\"checkbox\" ><label for=\"sk-estimator-id-19\" class=\"sk-toggleable__label sk-toggleable__label-arrow\">XGBClassifier</label><div class=\"sk-toggleable__content\"><pre>XGBClassifier(base_score=None, booster=None, callbacks=None,\n",
              "              colsample_bylevel=None, colsample_bynode=None,\n",
              "              colsample_bytree=None, early_stopping_rounds=None,\n",
              "              enable_categorical=False, eval_metric=None, feature_types=None,\n",
              "              gamma=None, gpu_id=None, grow_policy=None, importance_type=None,\n",
              "              interaction_constraints=None, learning_rate=None, max_bin=None,\n",
              "              max_cat_threshold=None, max_cat_to_onehot=None,\n",
              "              max_delta_step=None, max_depth=None, max_leaves=None,\n",
              "              min_child_weight=None, missing=nan, monotone_constraints=None,\n",
              "              n_estimators=100, n_jobs=None, num_parallel_tree=None,\n",
              "              predictor=None, random_state=42, ...)</pre></div></div></div></div></div></div></div></div></div></div>"
            ],
            "text/plain": [
              "GridSearchCV(cv=5,\n",
              "             estimator=XGBClassifier(base_score=None, booster=None,\n",
              "                                     callbacks=None, colsample_bylevel=None,\n",
              "                                     colsample_bynode=None,\n",
              "                                     colsample_bytree=None,\n",
              "                                     early_stopping_rounds=None,\n",
              "                                     enable_categorical=False, eval_metric=None,\n",
              "                                     feature_types=None, gamma=None,\n",
              "                                     gpu_id=None, grow_policy=None,\n",
              "                                     importance_type=None,\n",
              "                                     interaction_constraints=None,\n",
              "                                     learning_rate=None, max_bin=None,\n",
              "                                     max_cat_threshold=None,\n",
              "                                     max_cat_to_onehot=None,\n",
              "                                     max_delta_step=None, max_depth=None,\n",
              "                                     max_leaves=None, min_child_weight=None,\n",
              "                                     missing=nan, monotone_constraints=None,\n",
              "                                     n_estimators=100, n_jobs=None,\n",
              "                                     num_parallel_tree=None, predictor=None,\n",
              "                                     random_state=42, ...),\n",
              "             param_grid={'max_depth': [5, 7, 9, 11],\n",
              "                         'n_estimators': [100, 200]},\n",
              "             scoring='roc_auc')"
            ]
          },
          "execution_count": 57,
          "metadata": {},
          "output_type": "execute_result"
        }
      ],
      "source": [
        "grid_xg = GridSearchCV (xgb_model, param_grid = params, cv = 5, scoring='roc_auc')\n",
        "grid_xg.fit( X_train, y_train )\n"
      ]
    },
    {
      "cell_type": "code",
      "execution_count": 58,
      "metadata": {
        "colab": {
          "base_uri": "https://localhost:8080/",
          "height": 551
        },
        "id": "dVADaCrA6XfM",
        "outputId": "d93b2115-9958-421a-e922-0e18f337d4ee"
      },
      "outputs": [
        {
          "data": {
            "text/html": [
              "<div>\n",
              "<style scoped>\n",
              "    .dataframe tbody tr th:only-of-type {\n",
              "        vertical-align: middle;\n",
              "    }\n",
              "\n",
              "    .dataframe tbody tr th {\n",
              "        vertical-align: top;\n",
              "    }\n",
              "\n",
              "    .dataframe thead th {\n",
              "        text-align: right;\n",
              "    }\n",
              "</style>\n",
              "<table border=\"1\" class=\"dataframe\">\n",
              "  <thead>\n",
              "    <tr style=\"text-align: right;\">\n",
              "      <th></th>\n",
              "      <th>params</th>\n",
              "      <th>mean_test_score</th>\n",
              "      <th>rank_test_score</th>\n",
              "      <th>split0_test_score</th>\n",
              "      <th>split1_test_score</th>\n",
              "      <th>split2_test_score</th>\n",
              "    </tr>\n",
              "  </thead>\n",
              "  <tbody>\n",
              "    <tr>\n",
              "      <th>0</th>\n",
              "      <td>{'max_depth': 5, 'n_estimators': 100}</td>\n",
              "      <td>0.803744</td>\n",
              "      <td>1</td>\n",
              "      <td>0.804595</td>\n",
              "      <td>0.802360</td>\n",
              "      <td>0.802092</td>\n",
              "    </tr>\n",
              "    <tr>\n",
              "      <th>1</th>\n",
              "      <td>{'max_depth': 5, 'n_estimators': 200}</td>\n",
              "      <td>0.803125</td>\n",
              "      <td>2</td>\n",
              "      <td>0.804186</td>\n",
              "      <td>0.801708</td>\n",
              "      <td>0.801449</td>\n",
              "    </tr>\n",
              "    <tr>\n",
              "      <th>2</th>\n",
              "      <td>{'max_depth': 7, 'n_estimators': 100}</td>\n",
              "      <td>0.802300</td>\n",
              "      <td>3</td>\n",
              "      <td>0.803099</td>\n",
              "      <td>0.801069</td>\n",
              "      <td>0.800334</td>\n",
              "    </tr>\n",
              "    <tr>\n",
              "      <th>3</th>\n",
              "      <td>{'max_depth': 7, 'n_estimators': 200}</td>\n",
              "      <td>0.800492</td>\n",
              "      <td>4</td>\n",
              "      <td>0.801668</td>\n",
              "      <td>0.798741</td>\n",
              "      <td>0.798622</td>\n",
              "    </tr>\n",
              "    <tr>\n",
              "      <th>4</th>\n",
              "      <td>{'max_depth': 9, 'n_estimators': 100}</td>\n",
              "      <td>0.800035</td>\n",
              "      <td>5</td>\n",
              "      <td>0.800462</td>\n",
              "      <td>0.799310</td>\n",
              "      <td>0.798297</td>\n",
              "    </tr>\n",
              "    <tr>\n",
              "      <th>5</th>\n",
              "      <td>{'max_depth': 9, 'n_estimators': 200}</td>\n",
              "      <td>0.796707</td>\n",
              "      <td>6</td>\n",
              "      <td>0.797707</td>\n",
              "      <td>0.795552</td>\n",
              "      <td>0.795423</td>\n",
              "    </tr>\n",
              "    <tr>\n",
              "      <th>6</th>\n",
              "      <td>{'max_depth': 11, 'n_estimators': 100}</td>\n",
              "      <td>0.796636</td>\n",
              "      <td>7</td>\n",
              "      <td>0.797181</td>\n",
              "      <td>0.795770</td>\n",
              "      <td>0.795335</td>\n",
              "    </tr>\n",
              "    <tr>\n",
              "      <th>7</th>\n",
              "      <td>{'max_depth': 11, 'n_estimators': 200}</td>\n",
              "      <td>0.792062</td>\n",
              "      <td>8</td>\n",
              "      <td>0.792971</td>\n",
              "      <td>0.790569</td>\n",
              "      <td>0.791733</td>\n",
              "    </tr>\n",
              "  </tbody>\n",
              "</table>\n",
              "</div>"
            ],
            "text/plain": [
              "                                   params  mean_test_score  rank_test_score  \\\n",
              "0   {'max_depth': 5, 'n_estimators': 100}         0.803744                1   \n",
              "1   {'max_depth': 5, 'n_estimators': 200}         0.803125                2   \n",
              "2   {'max_depth': 7, 'n_estimators': 100}         0.802300                3   \n",
              "3   {'max_depth': 7, 'n_estimators': 200}         0.800492                4   \n",
              "4   {'max_depth': 9, 'n_estimators': 100}         0.800035                5   \n",
              "5   {'max_depth': 9, 'n_estimators': 200}         0.796707                6   \n",
              "6  {'max_depth': 11, 'n_estimators': 100}         0.796636                7   \n",
              "7  {'max_depth': 11, 'n_estimators': 200}         0.792062                8   \n",
              "\n",
              "   split0_test_score  split1_test_score  split2_test_score  \n",
              "0           0.804595           0.802360           0.802092  \n",
              "1           0.804186           0.801708           0.801449  \n",
              "2           0.803099           0.801069           0.800334  \n",
              "3           0.801668           0.798741           0.798622  \n",
              "4           0.800462           0.799310           0.798297  \n",
              "5           0.797707           0.795552           0.795423  \n",
              "6           0.797181           0.795770           0.795335  \n",
              "7           0.792971           0.790569           0.791733  "
            ]
          },
          "execution_count": 58,
          "metadata": {},
          "output_type": "execute_result"
        }
      ],
      "source": [
        "scores_df=pd.DataFrame(grid_xg.cv_results_)\n",
        "scores_df[['params','mean_test_score','rank_test_score',\n",
        "           'split0_test_score','split1_test_score','split2_test_score']]"
      ]
    },
    {
      "cell_type": "code",
      "execution_count": 59,
      "metadata": {
        "colab": {
          "base_uri": "https://localhost:8080/"
        },
        "id": "wORessd_2VPk",
        "outputId": "16ebc38b-bf50-4528-b82b-509d7a28407b"
      },
      "outputs": [
        {
          "name": "stdout",
          "output_type": "stream",
          "text": [
            "최적 하이퍼 파라미터:\n",
            " {'max_depth': 5, 'n_estimators': 100}\n",
            "최고 예측 정확도: 0.8037\n"
          ]
        }
      ],
      "source": [
        "print('최적 하이퍼 파라미터:\\n',grid_xg.best_params_)\n",
        "print('최고 예측 정확도: {0:.4f}'.format(grid_xg.best_score_))"
      ]
    },
    {
      "cell_type": "code",
      "execution_count": 60,
      "metadata": {
        "colab": {
          "base_uri": "https://localhost:8080/"
        },
        "id": "zrQCcXjN2M68",
        "outputId": "888828fb-8677-4583-84e8-d01eda1200da"
      },
      "outputs": [
        {
          "data": {
            "text/html": [
              "<style>#sk-container-id-8 {color: black;background-color: white;}#sk-container-id-8 pre{padding: 0;}#sk-container-id-8 div.sk-toggleable {background-color: white;}#sk-container-id-8 label.sk-toggleable__label {cursor: pointer;display: block;width: 100%;margin-bottom: 0;padding: 0.3em;box-sizing: border-box;text-align: center;}#sk-container-id-8 label.sk-toggleable__label-arrow:before {content: \"▸\";float: left;margin-right: 0.25em;color: #696969;}#sk-container-id-8 label.sk-toggleable__label-arrow:hover:before {color: black;}#sk-container-id-8 div.sk-estimator:hover label.sk-toggleable__label-arrow:before {color: black;}#sk-container-id-8 div.sk-toggleable__content {max-height: 0;max-width: 0;overflow: hidden;text-align: left;background-color: #f0f8ff;}#sk-container-id-8 div.sk-toggleable__content pre {margin: 0.2em;color: black;border-radius: 0.25em;background-color: #f0f8ff;}#sk-container-id-8 input.sk-toggleable__control:checked~div.sk-toggleable__content {max-height: 200px;max-width: 100%;overflow: auto;}#sk-container-id-8 input.sk-toggleable__control:checked~label.sk-toggleable__label-arrow:before {content: \"▾\";}#sk-container-id-8 div.sk-estimator input.sk-toggleable__control:checked~label.sk-toggleable__label {background-color: #d4ebff;}#sk-container-id-8 div.sk-label input.sk-toggleable__control:checked~label.sk-toggleable__label {background-color: #d4ebff;}#sk-container-id-8 input.sk-hidden--visually {border: 0;clip: rect(1px 1px 1px 1px);clip: rect(1px, 1px, 1px, 1px);height: 1px;margin: -1px;overflow: hidden;padding: 0;position: absolute;width: 1px;}#sk-container-id-8 div.sk-estimator {font-family: monospace;background-color: #f0f8ff;border: 1px dotted black;border-radius: 0.25em;box-sizing: border-box;margin-bottom: 0.5em;}#sk-container-id-8 div.sk-estimator:hover {background-color: #d4ebff;}#sk-container-id-8 div.sk-parallel-item::after {content: \"\";width: 100%;border-bottom: 1px solid gray;flex-grow: 1;}#sk-container-id-8 div.sk-label:hover label.sk-toggleable__label {background-color: #d4ebff;}#sk-container-id-8 div.sk-serial::before {content: \"\";position: absolute;border-left: 1px solid gray;box-sizing: border-box;top: 0;bottom: 0;left: 50%;z-index: 0;}#sk-container-id-8 div.sk-serial {display: flex;flex-direction: column;align-items: center;background-color: white;padding-right: 0.2em;padding-left: 0.2em;position: relative;}#sk-container-id-8 div.sk-item {position: relative;z-index: 1;}#sk-container-id-8 div.sk-parallel {display: flex;align-items: stretch;justify-content: center;background-color: white;position: relative;}#sk-container-id-8 div.sk-item::before, #sk-container-id-8 div.sk-parallel-item::before {content: \"\";position: absolute;border-left: 1px solid gray;box-sizing: border-box;top: 0;bottom: 0;left: 50%;z-index: -1;}#sk-container-id-8 div.sk-parallel-item {display: flex;flex-direction: column;z-index: 1;position: relative;background-color: white;}#sk-container-id-8 div.sk-parallel-item:first-child::after {align-self: flex-end;width: 50%;}#sk-container-id-8 div.sk-parallel-item:last-child::after {align-self: flex-start;width: 50%;}#sk-container-id-8 div.sk-parallel-item:only-child::after {width: 0;}#sk-container-id-8 div.sk-dashed-wrapped {border: 1px dashed gray;margin: 0 0.4em 0.5em 0.4em;box-sizing: border-box;padding-bottom: 0.4em;background-color: white;}#sk-container-id-8 div.sk-label label {font-family: monospace;font-weight: bold;display: inline-block;line-height: 1.2em;}#sk-container-id-8 div.sk-label-container {text-align: center;}#sk-container-id-8 div.sk-container {/* jupyter's `normalize.less` sets `[hidden] { display: none; }` but bootstrap.min.css set `[hidden] { display: none !important; }` so we also need the `!important` here to be able to override the default hidden behavior on the sphinx rendered scikit-learn.org. See: https://github.com/scikit-learn/scikit-learn/issues/21755 */display: inline-block !important;position: relative;}#sk-container-id-8 div.sk-text-repr-fallback {display: none;}</style><div id=\"sk-container-id-8\" class=\"sk-top-container\"><div class=\"sk-text-repr-fallback\"><pre>XGBClassifier(base_score=None, booster=None, callbacks=None,\n",
              "              colsample_bylevel=None, colsample_bynode=None,\n",
              "              colsample_bytree=None, early_stopping_rounds=None,\n",
              "              enable_categorical=False, eval_metric=None, feature_types=None,\n",
              "              gamma=None, gpu_id=None, grow_policy=None, importance_type=None,\n",
              "              interaction_constraints=None, learning_rate=None, max_bin=None,\n",
              "              max_cat_threshold=None, max_cat_to_onehot=None,\n",
              "              max_delta_step=None, max_depth=5, max_leaves=None,\n",
              "              min_child_weight=None, missing=nan, monotone_constraints=None,\n",
              "              n_estimators=100, n_jobs=None, num_parallel_tree=None,\n",
              "              predictor=None, random_state=42, ...)</pre><b>In a Jupyter environment, please rerun this cell to show the HTML representation or trust the notebook. <br />On GitHub, the HTML representation is unable to render, please try loading this page with nbviewer.org.</b></div><div class=\"sk-container\" hidden><div class=\"sk-item\"><div class=\"sk-estimator sk-toggleable\"><input class=\"sk-toggleable__control sk-hidden--visually\" id=\"sk-estimator-id-20\" type=\"checkbox\" checked><label for=\"sk-estimator-id-20\" class=\"sk-toggleable__label sk-toggleable__label-arrow\">XGBClassifier</label><div class=\"sk-toggleable__content\"><pre>XGBClassifier(base_score=None, booster=None, callbacks=None,\n",
              "              colsample_bylevel=None, colsample_bynode=None,\n",
              "              colsample_bytree=None, early_stopping_rounds=None,\n",
              "              enable_categorical=False, eval_metric=None, feature_types=None,\n",
              "              gamma=None, gpu_id=None, grow_policy=None, importance_type=None,\n",
              "              interaction_constraints=None, learning_rate=None, max_bin=None,\n",
              "              max_cat_threshold=None, max_cat_to_onehot=None,\n",
              "              max_delta_step=None, max_depth=5, max_leaves=None,\n",
              "              min_child_weight=None, missing=nan, monotone_constraints=None,\n",
              "              n_estimators=100, n_jobs=None, num_parallel_tree=None,\n",
              "              predictor=None, random_state=42, ...)</pre></div></div></div></div></div>"
            ],
            "text/plain": [
              "XGBClassifier(base_score=None, booster=None, callbacks=None,\n",
              "              colsample_bylevel=None, colsample_bynode=None,\n",
              "              colsample_bytree=None, early_stopping_rounds=None,\n",
              "              enable_categorical=False, eval_metric=None, feature_types=None,\n",
              "              gamma=None, gpu_id=None, grow_policy=None, importance_type=None,\n",
              "              interaction_constraints=None, learning_rate=None, max_bin=None,\n",
              "              max_cat_threshold=None, max_cat_to_onehot=None,\n",
              "              max_delta_step=None, max_depth=5, max_leaves=None,\n",
              "              min_child_weight=None, missing=nan, monotone_constraints=None,\n",
              "              n_estimators=100, n_jobs=None, num_parallel_tree=None,\n",
              "              predictor=None, random_state=42, ...)"
            ]
          },
          "execution_count": 60,
          "metadata": {},
          "output_type": "execute_result"
        }
      ],
      "source": [
        "best_xg = grid_xg.best_estimator_\n",
        "best_xg"
      ]
    },
    {
      "cell_type": "code",
      "execution_count": 61,
      "metadata": {
        "colab": {
          "base_uri": "https://localhost:8080/"
        },
        "id": "Lq3DoFz9IuIU",
        "outputId": "23fbb4ce-eff1-4768-ee87-6eb82138d829"
      },
      "outputs": [
        {
          "name": "stdout",
          "output_type": "stream",
          "text": [
            "Test accuracy:  0.7953983077905492\n",
            "Test set precision:  0.7988860399209923\n",
            "Test set recall:  0.9894347649918963\n",
            "Test set F1 score:  0.8840087516658258\n",
            "Test set AUC Score:  0.8020046028643291\n"
          ]
        }
      ],
      "source": [
        "# GridSearchCV의 best_estimator_는 이미 최적 학습이 됐으므로 별도 학습이 필요 없음 \n",
        "\n",
        "pred_xg=best_xg.predict(X_test)\n",
        "prob_xg=best_xg.predict_proba(X_test)[:,1]\n",
        "\n",
        "print('Test accuracy: ', accuracy_score(y_test, pred_xg))\n",
        "print('Test set precision: ',precision_score(y_test,pred_xg))\n",
        "print('Test set recall: ', recall_score(y_test,pred_xg))\n",
        "print('Test set F1 score: ', f1_score(y_test, pred_xg))\n",
        "print('Test set AUC Score: ', roc_auc_score(y_test,prob_xg))"
      ]
    },
    {
      "cell_type": "markdown",
      "metadata": {
        "id": "PjL8fhGbHlBi"
      },
      "source": [
        "## Voting classifier"
      ]
    },
    {
      "cell_type": "code",
      "execution_count": 62,
      "metadata": {
        "id": "zVLKwrSRHpO9"
      },
      "outputs": [],
      "source": [
        "# 개별 모델을 소프트 보팅 기반의 앙상블 모델로 구현한 분류기\n",
        "\n",
        "from sklearn.ensemble import VotingClassifier \n",
        "vo_clf=VotingClassifier(estimators=[('LR',best_lg),('KNN',best_knn),('Dtree',best_dtree),('XGB',best_xg),('Rf',best_rf)],voting='soft')"
      ]
    },
    {
      "cell_type": "code",
      "execution_count": 63,
      "metadata": {
        "colab": {
          "base_uri": "https://localhost:8080/"
        },
        "id": "Dlsz4lSPJbdL",
        "outputId": "960777b7-fe42-4a14-c490-b9b0ec82c766"
      },
      "outputs": [
        {
          "data": {
            "text/html": [
              "<style>#sk-container-id-9 {color: black;background-color: white;}#sk-container-id-9 pre{padding: 0;}#sk-container-id-9 div.sk-toggleable {background-color: white;}#sk-container-id-9 label.sk-toggleable__label {cursor: pointer;display: block;width: 100%;margin-bottom: 0;padding: 0.3em;box-sizing: border-box;text-align: center;}#sk-container-id-9 label.sk-toggleable__label-arrow:before {content: \"▸\";float: left;margin-right: 0.25em;color: #696969;}#sk-container-id-9 label.sk-toggleable__label-arrow:hover:before {color: black;}#sk-container-id-9 div.sk-estimator:hover label.sk-toggleable__label-arrow:before {color: black;}#sk-container-id-9 div.sk-toggleable__content {max-height: 0;max-width: 0;overflow: hidden;text-align: left;background-color: #f0f8ff;}#sk-container-id-9 div.sk-toggleable__content pre {margin: 0.2em;color: black;border-radius: 0.25em;background-color: #f0f8ff;}#sk-container-id-9 input.sk-toggleable__control:checked~div.sk-toggleable__content {max-height: 200px;max-width: 100%;overflow: auto;}#sk-container-id-9 input.sk-toggleable__control:checked~label.sk-toggleable__label-arrow:before {content: \"▾\";}#sk-container-id-9 div.sk-estimator input.sk-toggleable__control:checked~label.sk-toggleable__label {background-color: #d4ebff;}#sk-container-id-9 div.sk-label input.sk-toggleable__control:checked~label.sk-toggleable__label {background-color: #d4ebff;}#sk-container-id-9 input.sk-hidden--visually {border: 0;clip: rect(1px 1px 1px 1px);clip: rect(1px, 1px, 1px, 1px);height: 1px;margin: -1px;overflow: hidden;padding: 0;position: absolute;width: 1px;}#sk-container-id-9 div.sk-estimator {font-family: monospace;background-color: #f0f8ff;border: 1px dotted black;border-radius: 0.25em;box-sizing: border-box;margin-bottom: 0.5em;}#sk-container-id-9 div.sk-estimator:hover {background-color: #d4ebff;}#sk-container-id-9 div.sk-parallel-item::after {content: \"\";width: 100%;border-bottom: 1px solid gray;flex-grow: 1;}#sk-container-id-9 div.sk-label:hover label.sk-toggleable__label {background-color: #d4ebff;}#sk-container-id-9 div.sk-serial::before {content: \"\";position: absolute;border-left: 1px solid gray;box-sizing: border-box;top: 0;bottom: 0;left: 50%;z-index: 0;}#sk-container-id-9 div.sk-serial {display: flex;flex-direction: column;align-items: center;background-color: white;padding-right: 0.2em;padding-left: 0.2em;position: relative;}#sk-container-id-9 div.sk-item {position: relative;z-index: 1;}#sk-container-id-9 div.sk-parallel {display: flex;align-items: stretch;justify-content: center;background-color: white;position: relative;}#sk-container-id-9 div.sk-item::before, #sk-container-id-9 div.sk-parallel-item::before {content: \"\";position: absolute;border-left: 1px solid gray;box-sizing: border-box;top: 0;bottom: 0;left: 50%;z-index: -1;}#sk-container-id-9 div.sk-parallel-item {display: flex;flex-direction: column;z-index: 1;position: relative;background-color: white;}#sk-container-id-9 div.sk-parallel-item:first-child::after {align-self: flex-end;width: 50%;}#sk-container-id-9 div.sk-parallel-item:last-child::after {align-self: flex-start;width: 50%;}#sk-container-id-9 div.sk-parallel-item:only-child::after {width: 0;}#sk-container-id-9 div.sk-dashed-wrapped {border: 1px dashed gray;margin: 0 0.4em 0.5em 0.4em;box-sizing: border-box;padding-bottom: 0.4em;background-color: white;}#sk-container-id-9 div.sk-label label {font-family: monospace;font-weight: bold;display: inline-block;line-height: 1.2em;}#sk-container-id-9 div.sk-label-container {text-align: center;}#sk-container-id-9 div.sk-container {/* jupyter's `normalize.less` sets `[hidden] { display: none; }` but bootstrap.min.css set `[hidden] { display: none !important; }` so we also need the `!important` here to be able to override the default hidden behavior on the sphinx rendered scikit-learn.org. See: https://github.com/scikit-learn/scikit-learn/issues/21755 */display: inline-block !important;position: relative;}#sk-container-id-9 div.sk-text-repr-fallback {display: none;}</style><div id=\"sk-container-id-9\" class=\"sk-top-container\"><div class=\"sk-text-repr-fallback\"><pre>VotingClassifier(estimators=[(&#x27;LR&#x27;, LogisticRegression(C=100, random_state=42)),\n",
              "                             (&#x27;KNN&#x27;,\n",
              "                              KNeighborsClassifier(metric=&#x27;manhattan&#x27;,\n",
              "                                                   n_neighbors=9)),\n",
              "                             (&#x27;Dtree&#x27;,\n",
              "                              DecisionTreeClassifier(max_depth=8,\n",
              "                                                     min_samples_split=10,\n",
              "                                                     random_state=42)),\n",
              "                             (&#x27;XGB&#x27;,\n",
              "                              XGBClassifier(base_score=None, booster=None,\n",
              "                                            callbacks=None,\n",
              "                                            colsample_bylevel=None,\n",
              "                                            colsample_bynode=None,\n",
              "                                            colsample_bytree...\n",
              "                                            max_cat_threshold=None,\n",
              "                                            max_cat_to_onehot=None,\n",
              "                                            max_delta_step=None, max_depth=5,\n",
              "                                            max_leaves=None,\n",
              "                                            min_child_weight=None, missing=nan,\n",
              "                                            monotone_constraints=None,\n",
              "                                            n_estimators=100, n_jobs=None,\n",
              "                                            num_parallel_tree=None,\n",
              "                                            predictor=None, random_state=42, ...)),\n",
              "                             (&#x27;Rf&#x27;,\n",
              "                              RandomForestClassifier(max_depth=9,\n",
              "                                                     min_samples_split=8,\n",
              "                                                     n_estimators=200,\n",
              "                                                     random_state=42))],\n",
              "                 voting=&#x27;soft&#x27;)</pre><b>In a Jupyter environment, please rerun this cell to show the HTML representation or trust the notebook. <br />On GitHub, the HTML representation is unable to render, please try loading this page with nbviewer.org.</b></div><div class=\"sk-container\" hidden><div class=\"sk-item sk-dashed-wrapped\"><div class=\"sk-label-container\"><div class=\"sk-label sk-toggleable\"><input class=\"sk-toggleable__control sk-hidden--visually\" id=\"sk-estimator-id-21\" type=\"checkbox\" ><label for=\"sk-estimator-id-21\" class=\"sk-toggleable__label sk-toggleable__label-arrow\">VotingClassifier</label><div class=\"sk-toggleable__content\"><pre>VotingClassifier(estimators=[(&#x27;LR&#x27;, LogisticRegression(C=100, random_state=42)),\n",
              "                             (&#x27;KNN&#x27;,\n",
              "                              KNeighborsClassifier(metric=&#x27;manhattan&#x27;,\n",
              "                                                   n_neighbors=9)),\n",
              "                             (&#x27;Dtree&#x27;,\n",
              "                              DecisionTreeClassifier(max_depth=8,\n",
              "                                                     min_samples_split=10,\n",
              "                                                     random_state=42)),\n",
              "                             (&#x27;XGB&#x27;,\n",
              "                              XGBClassifier(base_score=None, booster=None,\n",
              "                                            callbacks=None,\n",
              "                                            colsample_bylevel=None,\n",
              "                                            colsample_bynode=None,\n",
              "                                            colsample_bytree...\n",
              "                                            max_cat_threshold=None,\n",
              "                                            max_cat_to_onehot=None,\n",
              "                                            max_delta_step=None, max_depth=5,\n",
              "                                            max_leaves=None,\n",
              "                                            min_child_weight=None, missing=nan,\n",
              "                                            monotone_constraints=None,\n",
              "                                            n_estimators=100, n_jobs=None,\n",
              "                                            num_parallel_tree=None,\n",
              "                                            predictor=None, random_state=42, ...)),\n",
              "                             (&#x27;Rf&#x27;,\n",
              "                              RandomForestClassifier(max_depth=9,\n",
              "                                                     min_samples_split=8,\n",
              "                                                     n_estimators=200,\n",
              "                                                     random_state=42))],\n",
              "                 voting=&#x27;soft&#x27;)</pre></div></div></div><div class=\"sk-parallel\"><div class=\"sk-parallel-item\"><div class=\"sk-item\"><div class=\"sk-label-container\"><div class=\"sk-label sk-toggleable\"><label>LR</label></div></div><div class=\"sk-serial\"><div class=\"sk-item\"><div class=\"sk-estimator sk-toggleable\"><input class=\"sk-toggleable__control sk-hidden--visually\" id=\"sk-estimator-id-22\" type=\"checkbox\" ><label for=\"sk-estimator-id-22\" class=\"sk-toggleable__label sk-toggleable__label-arrow\">LogisticRegression</label><div class=\"sk-toggleable__content\"><pre>LogisticRegression(C=100, random_state=42)</pre></div></div></div></div></div></div><div class=\"sk-parallel-item\"><div class=\"sk-item\"><div class=\"sk-label-container\"><div class=\"sk-label sk-toggleable\"><label>KNN</label></div></div><div class=\"sk-serial\"><div class=\"sk-item\"><div class=\"sk-estimator sk-toggleable\"><input class=\"sk-toggleable__control sk-hidden--visually\" id=\"sk-estimator-id-23\" type=\"checkbox\" ><label for=\"sk-estimator-id-23\" class=\"sk-toggleable__label sk-toggleable__label-arrow\">KNeighborsClassifier</label><div class=\"sk-toggleable__content\"><pre>KNeighborsClassifier(metric=&#x27;manhattan&#x27;, n_neighbors=9)</pre></div></div></div></div></div></div><div class=\"sk-parallel-item\"><div class=\"sk-item\"><div class=\"sk-label-container\"><div class=\"sk-label sk-toggleable\"><label>Dtree</label></div></div><div class=\"sk-serial\"><div class=\"sk-item\"><div class=\"sk-estimator sk-toggleable\"><input class=\"sk-toggleable__control sk-hidden--visually\" id=\"sk-estimator-id-24\" type=\"checkbox\" ><label for=\"sk-estimator-id-24\" class=\"sk-toggleable__label sk-toggleable__label-arrow\">DecisionTreeClassifier</label><div class=\"sk-toggleable__content\"><pre>DecisionTreeClassifier(max_depth=8, min_samples_split=10, random_state=42)</pre></div></div></div></div></div></div><div class=\"sk-parallel-item\"><div class=\"sk-item\"><div class=\"sk-label-container\"><div class=\"sk-label sk-toggleable\"><label>XGB</label></div></div><div class=\"sk-serial\"><div class=\"sk-item\"><div class=\"sk-estimator sk-toggleable\"><input class=\"sk-toggleable__control sk-hidden--visually\" id=\"sk-estimator-id-25\" type=\"checkbox\" ><label for=\"sk-estimator-id-25\" class=\"sk-toggleable__label sk-toggleable__label-arrow\">XGBClassifier</label><div class=\"sk-toggleable__content\"><pre>XGBClassifier(base_score=None, booster=None, callbacks=None,\n",
              "              colsample_bylevel=None, colsample_bynode=None,\n",
              "              colsample_bytree=None, early_stopping_rounds=None,\n",
              "              enable_categorical=False, eval_metric=None, feature_types=None,\n",
              "              gamma=None, gpu_id=None, grow_policy=None, importance_type=None,\n",
              "              interaction_constraints=None, learning_rate=None, max_bin=None,\n",
              "              max_cat_threshold=None, max_cat_to_onehot=None,\n",
              "              max_delta_step=None, max_depth=5, max_leaves=None,\n",
              "              min_child_weight=None, missing=nan, monotone_constraints=None,\n",
              "              n_estimators=100, n_jobs=None, num_parallel_tree=None,\n",
              "              predictor=None, random_state=42, ...)</pre></div></div></div></div></div></div><div class=\"sk-parallel-item\"><div class=\"sk-item\"><div class=\"sk-label-container\"><div class=\"sk-label sk-toggleable\"><label>Rf</label></div></div><div class=\"sk-serial\"><div class=\"sk-item\"><div class=\"sk-estimator sk-toggleable\"><input class=\"sk-toggleable__control sk-hidden--visually\" id=\"sk-estimator-id-26\" type=\"checkbox\" ><label for=\"sk-estimator-id-26\" class=\"sk-toggleable__label sk-toggleable__label-arrow\">RandomForestClassifier</label><div class=\"sk-toggleable__content\"><pre>RandomForestClassifier(max_depth=9, min_samples_split=8, n_estimators=200,\n",
              "                       random_state=42)</pre></div></div></div></div></div></div></div></div></div></div>"
            ],
            "text/plain": [
              "VotingClassifier(estimators=[('LR', LogisticRegression(C=100, random_state=42)),\n",
              "                             ('KNN',\n",
              "                              KNeighborsClassifier(metric='manhattan',\n",
              "                                                   n_neighbors=9)),\n",
              "                             ('Dtree',\n",
              "                              DecisionTreeClassifier(max_depth=8,\n",
              "                                                     min_samples_split=10,\n",
              "                                                     random_state=42)),\n",
              "                             ('XGB',\n",
              "                              XGBClassifier(base_score=None, booster=None,\n",
              "                                            callbacks=None,\n",
              "                                            colsample_bylevel=None,\n",
              "                                            colsample_bynode=None,\n",
              "                                            colsample_bytree...\n",
              "                                            max_cat_threshold=None,\n",
              "                                            max_cat_to_onehot=None,\n",
              "                                            max_delta_step=None, max_depth=5,\n",
              "                                            max_leaves=None,\n",
              "                                            min_child_weight=None, missing=nan,\n",
              "                                            monotone_constraints=None,\n",
              "                                            n_estimators=100, n_jobs=None,\n",
              "                                            num_parallel_tree=None,\n",
              "                                            predictor=None, random_state=42, ...)),\n",
              "                             ('Rf',\n",
              "                              RandomForestClassifier(max_depth=9,\n",
              "                                                     min_samples_split=8,\n",
              "                                                     n_estimators=200,\n",
              "                                                     random_state=42))],\n",
              "                 voting='soft')"
            ]
          },
          "execution_count": 63,
          "metadata": {},
          "output_type": "execute_result"
        }
      ],
      "source": [
        "# VotingClassifier 학습/예측/평가.\n",
        "\n",
        "vo_clf.fit(X_train,y_train)\n"
      ]
    },
    {
      "cell_type": "markdown",
      "metadata": {
        "id": "jdHfa393B4-W"
      },
      "source": [
        "## Test data 평가하기"
      ]
    },
    {
      "cell_type": "code",
      "execution_count": 64,
      "metadata": {
        "colab": {
          "base_uri": "https://localhost:8080/"
        },
        "id": "F0yizrEK9KRa",
        "outputId": "2ec4dd82-5607-4970-f06c-5d315cbb3dbf"
      },
      "outputs": [
        {
          "name": "stdout",
          "output_type": "stream",
          "text": [
            "Test accuracy:  0.7942608556832694\n",
            "Test set precision:  0.7966329144809077\n",
            "Test set recall:  0.9922001620745543\n",
            "Test set F1 score:  0.8837261757076802\n",
            "Test set AUC Score:  0.797722502350493\n"
          ]
        }
      ],
      "source": [
        "pred_vo=vo_clf.predict(X_test)\n",
        "prob_vo=vo_clf.predict_proba(X_test)[:,1]\n",
        "\n",
        "print('Test accuracy: ', accuracy_score(y_test, pred_vo))\n",
        "print('Test set precision: ',precision_score(y_test,pred_vo))\n",
        "print('Test set recall: ', recall_score(y_test,pred_vo))\n",
        "print('Test set F1 score: ', f1_score(y_test, pred_vo))\n",
        "print('Test set AUC Score: ', roc_auc_score(y_test,prob_vo))"
      ]
    },
    {
      "cell_type": "markdown",
      "metadata": {
        "id": "3c-6n-w9LIJ3"
      },
      "source": [
        "## TabNet 코드 구현"
      ]
    },
    {
      "cell_type": "code",
      "execution_count": null,
      "metadata": {
        "colab": {
          "base_uri": "https://localhost:8080/"
        },
        "id": "Hhe905yxHQnW",
        "outputId": "2917e9d7-f5a3-4afc-caf4-d839e46ad12d"
      },
      "outputs": [],
      "source": [
        "!pip install pytorch_tabnet"
      ]
    },
    {
      "cell_type": "code",
      "execution_count": null,
      "metadata": {
        "id": "QMSSUmJJ_eiG"
      },
      "outputs": [],
      "source": [
        "import os \n",
        "import numpy as np  \n",
        "from sklearn.metrics import roc_auc_score \n",
        "from sklearn.preprocessing import LabelEncoder \n",
        "\n",
        "import torch \n",
        "import torch.nn as nn \n",
        "from pytorch_tabnet.tab_model import TabNetClassifier "
      ]
    },
    {
      "cell_type": "code",
      "execution_count": 66,
      "metadata": {},
      "outputs": [],
      "source": [
        "\n",
        "#Separate the training dataset into the training set and validation set to optimize the deeplearning model \"tabnet\"\n",
        "\n",
        "from sklearn.model_selection import train_test_split\n",
        "X_train, X_val, y_train, y_val = train_test_split(X_train, y_train, test_size=0.2, random_state=42, shuffle=True, stratify=y_train)"
      ]
    },
    {
      "cell_type": "code",
      "execution_count": 76,
      "metadata": {},
      "outputs": [],
      "source": [
        "# Feature importance가 낮은 INSP 변수는 분류모델 구축에서 제외함\n",
        "\n",
        "X_train = X_train[['MOTORSPEED','MELT_WEIGHT','MELT_TEMP']]\n",
        "X_val = X_val[['MOTORSPEED','MELT_WEIGHT','MELT_TEMP']]\n",
        "X_test = X_test[['MOTORSPEED','MELT_WEIGHT','MELT_TEMP']]"
      ]
    },
    {
      "cell_type": "code",
      "execution_count": 83,
      "metadata": {},
      "outputs": [
        {
          "name": "stdout",
          "output_type": "stream",
          "text": [
            "\n",
            "Early stopping occurred at epoch 6 with best_epoch = 1 and best_val_0_auc = 0.79389\n"
          ]
        }
      ],
      "source": [
        "tab_classifier=TabNetClassifier(verbose=0, optimizer_fn=torch.optim.Adam,seed=42)\n",
        "tab_classifier.fit(X_train=X_train.values, y_train=y_train.values.ravel(), eval_set=[(X_val.values, y_val.values.ravel())], batch_size=500, eval_metric=['auc'], patience=5, max_epochs=30)\n",
        "     "
      ]
    },
    {
      "cell_type": "code",
      "execution_count": 88,
      "metadata": {
        "id": "W76wCOjKOHpO"
      },
      "outputs": [
        {
          "name": "stdout",
          "output_type": "stream",
          "text": [
            "Test accuracy:  0.7880946679438059\n",
            "Test set precision:  0.7883981410812257\n",
            "Test set recall:  0.9992858589951378\n",
            "Test set F1 score:  0.8814031043594607\n",
            "Test set AUC Score:  0.7901565271735748\n"
          ]
        }
      ],
      "source": [
        "\n",
        "pred_tab=tab_classifier.predict(X_test.values)\n",
        "prob_tab=tab_classifier.predict_proba(X_test.values)[:,1]\n",
        "\n",
        "print('Test accuracy: ', accuracy_score(y_test, pred_tab))\n",
        "print('Test set precision: ',precision_score(y_test,pred_tab))\n",
        "print('Test set recall: ', recall_score(y_test,pred_tab))\n",
        "print('Test set F1 score: ', f1_score(y_test, pred_tab))\n",
        "print('Test set AUC Score: ', roc_auc_score(y_test,prob_tab))\n"
      ]
    },
    {
      "cell_type": "code",
      "execution_count": null,
      "metadata": {},
      "outputs": [],
      "source": []
    }
  ],
  "metadata": {
    "accelerator": "GPU",
    "colab": {
      "collapsed_sections": [],
      "machine_shape": "hm",
      "provenance": []
    },
    "gpuClass": "standard",
    "kernelspec": {
      "display_name": "Python 3",
      "name": "python3"
    },
    "language_info": {
      "codemirror_mode": {
        "name": "ipython",
        "version": 3
      },
      "file_extension": ".py",
      "mimetype": "text/x-python",
      "name": "python",
      "nbconvert_exporter": "python",
      "pygments_lexer": "ipython3",
      "version": "3.8.10"
    }
  },
  "nbformat": 4,
  "nbformat_minor": 0
}
