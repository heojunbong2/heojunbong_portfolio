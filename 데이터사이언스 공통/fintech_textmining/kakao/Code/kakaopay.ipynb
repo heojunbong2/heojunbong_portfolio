{
 "cells": [
  {
   "cell_type": "markdown",
   "metadata": {},
   "source": [
    "## 카카오페이 크롤링"
   ]
  },
  {
   "cell_type": "code",
   "execution_count": null,
   "metadata": {},
   "outputs": [],
   "source": [
    "import time\n",
    "from selenium import webdriver\n",
    "from selenium.webdriver.chrome.service import Service as ChromeService\n",
    "from selenium.webdriver.common.by import By\n",
    "from webdriver_manager.chrome import ChromeDriverManager\n",
    "from selenium.webdriver.common.keys import Keys\n",
    "import pandas as pd\n",
    "\n",
    "def scroll_down(driver):\n",
    "    driver.execute_script('document.getElementsByClassName(\"fysCi\")[0].scrollTo(0, 999999999999)') # 그 모든 리뷰 나오는 작은 창에서 스크롤을 내리도록 해야되기 때문에, 그 작은 창의 HTML 요소를 알려주도록 합니다.\n",
    "    time.sleep(1)\n",
    "\n",
    "# 웹 드라이버 초기화\n",
    "driver = webdriver.Chrome(service=ChromeService(ChromeDriverManager().install()))\n",
    "\n",
    "# 현재 페이지의 댓글을 크롤링\n",
    "channel_url = 'https://play.google.com/store/apps/details?id=com.kakaopay.app&hl=ko&gl=US'\n",
    "\n",
    "# implicitly_wait() 메서드로 기다리는 시간 설정\n",
    "\n",
    "driver.implicitly_wait(5)\n",
    "\n",
    "# 채널 페이지로 이동\n",
    "\n",
    "driver.get(channel_url)\n",
    "\n",
    "data = pd.DataFrame(data=[], columns=['날짜', '리뷰', '별점'])\n",
    "\n",
    "\n",
    "# 리뷰 모두 보기 버튼 클릭\n",
    "\n",
    "button = driver.find_element(By.CSS_SELECTOR, 'div.Jwxk6d span.VfPpkd-vQzf8d') \n",
    "button.click()\n",
    "time.sleep(1)\n",
    "\n",
    "# 리뷰 화면 창 나왔으면, 스크롤 다섯번 내리기\n",
    "for i in range(120):\n",
    "    # driver.find_element(By.CSS_SELECTOR, \"div.odk6He\").send_keys(Keys.END)\n",
    "    scroll_down(driver)\n",
    "    time.sleep(5)\n",
    "\n",
    "# 이제 리뷰들 수집\n",
    "\n",
    "dates = driver.find_elements(by=By.XPATH, value='//span[@class=\"bp9Aid\"]')\n",
    "reviews = driver.find_elements(by=By.XPATH, value='//div[@class=\"h3YV2d\"]')\n",
    "stargrades = driver.find_elements(by=By.XPATH, value='//div[@class=\"iXRFPc\"]')\n",
    "\n",
    "\n",
    "for i in range(len(reviews)):\n",
    "    tmp = []\n",
    "    tmp.append(dates[i].text)  # 날짜 저장하기\n",
    "    tmp.append(reviews[i].text)  # 리뷰 저장하기\n",
    "    tmp.append(stargrades[i].get_attribute('aria-label'))  # 평점 저장하기\n",
    "    tmp = pd.DataFrame(data=[tmp], columns=data.columns)\n",
    "    data = pd.concat([data, tmp])\n",
    "\n",
    "print(\"카카오페이 앱 리뷰 수집 완료\")\n",
    "\n",
    "data.reset_index(inplace=True, drop=True)\n",
    "print(data.to_string())"
   ]
  },
  {
   "cell_type": "code",
   "execution_count": null,
   "metadata": {},
   "outputs": [],
   "source": [
    "data"
   ]
  },
  {
   "cell_type": "code",
   "execution_count": null,
   "metadata": {},
   "outputs": [],
   "source": [
    "data.head(10)"
   ]
  },
  {
   "cell_type": "code",
   "execution_count": null,
   "metadata": {},
   "outputs": [],
   "source": [
    "data2=data.iloc[4:,:]\n",
    "data2"
   ]
  },
  {
   "cell_type": "code",
   "execution_count": null,
   "metadata": {},
   "outputs": [],
   "source": [
    "data2['month']=data2['날짜'].str.split(' ').str[0]\n",
    "data2.head(5)"
   ]
  },
  {
   "cell_type": "code",
   "execution_count": null,
   "metadata": {},
   "outputs": [],
   "source": [
    "import re \n",
    "\n",
    "data2['별점'] = data2['별점'].apply(lambda x : x[5:])\n",
    "\n",
    "m = re.compile('[0-9][\\.0-9]*') #정규표현식\n",
    "\n",
    "data2['별점'] = data2['별점'].apply(lambda x : m.findall(x)[0])\n",
    "data2['별점']"
   ]
  },
  {
   "cell_type": "code",
   "execution_count": null,
   "metadata": {},
   "outputs": [],
   "source": [
    "data2.groupby('month').count()"
   ]
  },
  {
   "cell_type": "code",
   "execution_count": null,
   "metadata": {},
   "outputs": [],
   "source": [
    "data2.to_csv('C:/Users/junbong heo/OneDrive/바탕 화면/kakaopay_review_scroll120.csv',index=False,encoding='utf-8-sig')"
   ]
  },
  {
   "cell_type": "code",
   "execution_count": null,
   "metadata": {},
   "outputs": [],
   "source": []
  }
 ],
 "metadata": {
  "kernelspec": {
   "display_name": "Python 3",
   "language": "python",
   "name": "python3"
  },
  "language_info": {
   "codemirror_mode": {
    "name": "ipython",
    "version": 3
   },
   "file_extension": ".py",
   "mimetype": "text/x-python",
   "name": "python",
   "nbconvert_exporter": "python",
   "pygments_lexer": "ipython3",
   "version": "3.7.15"
  }
 },
 "nbformat": 4,
 "nbformat_minor": 2
}
