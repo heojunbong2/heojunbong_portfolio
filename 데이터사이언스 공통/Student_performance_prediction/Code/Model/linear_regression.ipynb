{
 "cells": [
  {
   "cell_type": "code",
   "execution_count": 25,
   "metadata": {},
   "outputs": [],
   "source": [
    "import numpy as np\n",
    "import pandas as pd\n",
    "from sklearn.linear_model import LinearRegression\n",
    "from sklearn.metrics import mean_squared_error\n",
    "from sklearn.preprocessing import StandardScaler\n",
    "import statsmodels.api as sm"
   ]
  },
  {
   "cell_type": "code",
   "execution_count": 26,
   "metadata": {},
   "outputs": [],
   "source": [
    "train_X=pd.read_csv('/home/iai/heo/datamining_project/3.Student performance/dataset/preprocessed_X_train.csv')\n",
    "train_y=pd.read_csv('/home/iai/heo/datamining_project/3.Student performance/dataset/y_train.csv')\n",
    "test_X=pd.read_csv('/home/iai/heo/datamining_project/3.Student performance/dataset/preprocessed_X_test.csv')\n",
    "test_y=pd.read_csv('/home/iai/heo/datamining_project/3.Student performance/dataset/y_test.csv')"
   ]
  },
  {
   "cell_type": "code",
   "execution_count": 27,
   "metadata": {},
   "outputs": [],
   "source": [
    "scaler=StandardScaler()\n",
    "train_X_scaled=scaler.fit_transform(train_X)\n",
    "test_X_scaled=scaler.transform(test_X)"
   ]
  },
  {
   "cell_type": "code",
   "execution_count": 29,
   "metadata": {},
   "outputs": [
    {
     "name": "stdout",
     "output_type": "stream",
     "text": [
      "                            OLS Regression Results                            \n",
      "==============================================================================\n",
      "Dep. Variable:                     G3   R-squared:                       0.846\n",
      "Model:                            OLS   Adj. R-squared:                  0.840\n",
      "Method:                 Least Squares   F-statistic:                     130.1\n",
      "Date:                Sun, 26 May 2024   Prob (F-statistic):          1.35e-186\n",
      "Time:                        03:09:53   Log-Likelihood:                -867.76\n",
      "No. Observations:                 519   AIC:                             1780.\n",
      "Df Residuals:                     497   BIC:                             1873.\n",
      "Df Model:                          21                                         \n",
      "Covariance Type:            nonrobust                                         \n",
      "==============================================================================\n",
      "                 coef    std err          t      P>|t|      [0.025      0.975]\n",
      "------------------------------------------------------------------------------\n",
      "const         11.8671      0.058    205.413      0.000      11.754      11.981\n",
      "school        -0.1225      0.069     -1.776      0.076      -0.258       0.013\n",
      "sex           -0.1022      0.065     -1.563      0.119      -0.231       0.026\n",
      "age            0.0636      0.064      0.988      0.324      -0.063       0.190\n",
      "address        0.0403      0.065      0.622      0.534      -0.087       0.167\n",
      "Medu          -0.0461      0.084     -0.547      0.585      -0.212       0.120\n",
      "Fedu           0.0441      0.077      0.571      0.568      -0.107       0.196\n",
      "Mjob           0.0209      0.067      0.314      0.754      -0.110       0.152\n",
      "reason        -0.0861      0.061     -1.422      0.156      -0.205       0.033\n",
      "traveltime     0.1291      0.065      1.983      0.048       0.001       0.257\n",
      "studytime      0.0371      0.065      0.574      0.566      -0.090       0.164\n",
      "failures      -0.1713      0.067     -2.554      0.011      -0.303      -0.040\n",
      "famsup         0.0701      0.061      1.153      0.249      -0.049       0.190\n",
      "higher         0.0569      0.066      0.860      0.390      -0.073       0.187\n",
      "internet       0.0567      0.063      0.905      0.366      -0.066       0.180\n",
      "freetime      -0.0792      0.059     -1.335      0.182      -0.196       0.037\n",
      "Dalc           0.0257      0.076      0.341      0.733      -0.123       0.174\n",
      "Walc          -0.0401      0.077     -0.520      0.603      -0.191       0.111\n",
      "health        -0.0871      0.060     -1.446      0.149      -0.205       0.031\n",
      "absences       0.0558      0.063      0.891      0.373      -0.067       0.179\n",
      "G1            -0.1228      0.117     -1.053      0.293      -0.352       0.106\n",
      "G2             2.0034      0.114     17.535      0.000       1.779       2.228\n",
      "total          0.9987      0.025     39.603      0.000       0.949       1.048\n",
      "==============================================================================\n",
      "Omnibus:                      373.145   Durbin-Watson:                   2.057\n",
      "Prob(Omnibus):                  0.000   Jarque-Bera (JB):             7192.885\n",
      "Skew:                          -2.902   Prob(JB):                         0.00\n",
      "Kurtosis:                      20.289   Cond. No.                     6.66e+15\n",
      "==============================================================================\n",
      "\n",
      "Notes:\n",
      "[1] Standard Errors assume that the covariance matrix of the errors is correctly specified.\n",
      "[2] The smallest eigenvalue is 5.23e-29. This might indicate that there are\n",
      "strong multicollinearity problems or that the design matrix is singular.\n"
     ]
    }
   ],
   "source": [
    "# 3. 다중선형회귀모델 학습 및 회귀분석표 생성\n",
    "\n",
    "train_X_scaled_const = sm.add_constant(train_X_scaled)  # 상수항 추가\n",
    "model = sm.OLS(train_y, train_X_scaled_const).fit()\n",
    "\n",
    "# 회귀분석표 출력\n",
    "print(model.summary(xname=['const'] + list(train_X.columns)))\n"
   ]
  },
  {
   "cell_type": "code",
   "execution_count": 30,
   "metadata": {},
   "outputs": [
    {
     "name": "stdout",
     "output_type": "stream",
     "text": [
      "RMSE: 0.9655698571459843\n"
     ]
    }
   ],
   "source": [
    "\n",
    "# 4. 모델 평가 (RMSE)\n",
    "test_X_scaled_const = sm.add_constant(test_X_scaled)  # 상수항 추가\n",
    "predictions = model.predict(test_X_scaled_const)\n",
    "rmse = np.sqrt(mean_squared_error(test_y, predictions))\n",
    "print(f'RMSE: {rmse}')"
   ]
  },
  {
   "cell_type": "code",
   "execution_count": null,
   "metadata": {},
   "outputs": [],
   "source": []
  }
 ],
 "metadata": {
  "kernelspec": {
   "display_name": "hjb",
   "language": "python",
   "name": "conda"
  },
  "language_info": {
   "codemirror_mode": {
    "name": "ipython",
    "version": 3
   },
   "file_extension": ".py",
   "mimetype": "text/x-python",
   "name": "python",
   "nbconvert_exporter": "python",
   "pygments_lexer": "ipython3",
   "version": "3.9.17"
  }
 },
 "nbformat": 4,
 "nbformat_minor": 2
}
